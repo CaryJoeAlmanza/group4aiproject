{
  "nbformat": 4,
  "nbformat_minor": 0,
  "metadata": {
    "colab": {
      "provenance": [],
      "mount_file_id": "1OdGvrCtxbb1U3aXGyQqOQEDxwivsga4E",
      "authorship_tag": "ABX9TyNARFpTIxJbAZRlMZjye/2Z",
      "include_colab_link": true
    },
    "kernelspec": {
      "name": "python3",
      "display_name": "Python 3"
    },
    "language_info": {
      "name": "python"
    },
    "accelerator": "GPU",
    "gpuClass": "standard"
  },
  "cells": [
    {
      "cell_type": "markdown",
      "metadata": {
        "id": "view-in-github",
        "colab_type": "text"
      },
      "source": [
        "<a href=\"https://colab.research.google.com/github/CaryJoeAlmanza/group4aiproject/blob/CaryJoeBranch/DiffusionGan.ipynb\" target=\"_parent\"><img src=\"https://colab.research.google.com/assets/colab-badge.svg\" alt=\"Open In Colab\"/></a>"
      ]
    },
    {
      "cell_type": "code",
      "source": [
        "from google.colab import drive\n",
        "drive.mount('/content/drive')"
      ],
      "metadata": {
        "colab": {
          "base_uri": "https://localhost:8080/"
        },
        "id": "KNrc-vIGlDrW",
        "outputId": "2c9893f2-6247-4da8-a6fe-342aa07ec626"
      },
      "execution_count": 1,
      "outputs": [
        {
          "output_type": "stream",
          "name": "stdout",
          "text": [
            "Mounted at /content/drive\n"
          ]
        }
      ]
    },
    {
      "cell_type": "code",
      "source": [
        "%cd /content/drive/MyDrive/Colab Notebooks/Artificial Intelligence/other"
      ],
      "metadata": {
        "colab": {
          "base_uri": "https://localhost:8080/"
        },
        "id": "NHL3BVTmlJD1",
        "outputId": "ce79fa27-3627-4028-b06c-081d726db758"
      },
      "execution_count": 5,
      "outputs": [
        {
          "output_type": "stream",
          "name": "stdout",
          "text": [
            "/content/drive/MyDrive/Colab Notebooks/Artificial Intelligence/other\n"
          ]
        }
      ]
    },
    {
      "cell_type": "code",
      "source": [
        "! git clone https://github.com/Zhendong-Wang/Diffusion-GAN.git"
      ],
      "metadata": {
        "colab": {
          "base_uri": "https://localhost:8080/"
        },
        "id": "MOLncUvhnfbj",
        "outputId": "5eb4c19a-4c43-4ed2-973f-2c9984c4f105"
      },
      "execution_count": 6,
      "outputs": [
        {
          "output_type": "stream",
          "name": "stdout",
          "text": [
            "Cloning into 'Diffusion-GAN'...\n",
            "remote: Enumerating objects: 273, done.\u001b[K\n",
            "remote: Counting objects: 100% (46/46), done.\u001b[K\n",
            "remote: Compressing objects: 100% (28/28), done.\u001b[K\n",
            "remote: Total 273 (delta 22), reused 21 (delta 18), pack-reused 227\u001b[K\n",
            "Receiving objects: 100% (273/273), 9.74 MiB | 13.92 MiB/s, done.\n",
            "Resolving deltas: 100% (133/133), done.\n"
          ]
        }
      ]
    },
    {
      "cell_type": "code",
      "source": [
        "%cd /content/drive/MyDrive/Colab Notebooks/Artificial Intelligence/other/Diffusion-GAN/diffusion-stylegan2"
      ],
      "metadata": {
        "colab": {
          "base_uri": "https://localhost:8080/"
        },
        "id": "RJC8C6AWnojR",
        "outputId": "0f80db79-c398-4670-8091-d3078a207279"
      },
      "execution_count": 9,
      "outputs": [
        {
          "output_type": "stream",
          "name": "stdout",
          "text": [
            "/content/drive/MyDrive/Colab Notebooks/Artificial Intelligence/other/Diffusion-GAN/diffusion-stylegan2\n"
          ]
        }
      ]
    },
    {
      "cell_type": "code",
      "source": [
        "# Generate FFHQ with pretrained Diffusion-StyleGAN2\n",
        "!python generate.py --outdir=out --seeds=1-100 \\\n",
        "    --network=https://tsciencescu.blob.core.windows.net/projectshzheng/DiffusionGAN/diffusion-stylegan2-ffhq.pkl\n",
        "\n",
        "# # Generate LSUN-Church with pretrained Diffusion-ProjectedGAN\n",
        "# !python gen_images.py --outdir=out --seeds=1-100 \\\n",
        "#     --network=https://tsciencescu.blob.core.windows.net/projectshzheng/DiffusionGAN/diffusion-projectedgan-lsun-church.pkl"
      ],
      "metadata": {
        "colab": {
          "base_uri": "https://localhost:8080/"
        },
        "id": "Y2A9B3GWnrEm",
        "outputId": "513c9cc8-0dc6-4c8d-8112-a6742bce12aa"
      },
      "execution_count": 10,
      "outputs": [
        {
          "output_type": "stream",
          "name": "stdout",
          "text": [
            "Loading networks from \"https://tsciencescu.blob.core.windows.net/projectshzheng/DiffusionGAN/diffusion-stylegan2-ffhq.pkl\"...\n",
            "Downloading https://tsciencescu.blob.core.windows.net/projectshzheng/DiffusionGAN/diffusion-stylegan2-ffhq.pkl ............ failed\n",
            "Traceback (most recent call last):\n",
            "  File \"generate.py\", line 127, in <module>\n",
            "    generate_images() # pylint: disable=no-value-for-parameter\n",
            "  File \"/usr/local/lib/python3.8/dist-packages/click/core.py\", line 829, in __call__\n",
            "    return self.main(*args, **kwargs)\n",
            "  File \"/usr/local/lib/python3.8/dist-packages/click/core.py\", line 782, in main\n",
            "    rv = self.invoke(ctx)\n",
            "  File \"/usr/local/lib/python3.8/dist-packages/click/core.py\", line 1066, in invoke\n",
            "    return ctx.invoke(self.callback, **ctx.params)\n",
            "  File \"/usr/local/lib/python3.8/dist-packages/click/core.py\", line 610, in invoke\n",
            "    return callback(*args, **kwargs)\n",
            "  File \"/usr/local/lib/python3.8/dist-packages/click/decorators.py\", line 21, in new_func\n",
            "    return f(get_current_context(), *args, **kwargs)\n",
            "  File \"generate.py\", line 83, in generate_images\n",
            "    with dnnlib.util.open_url(network_pkl) as f:\n",
            "  File \"/content/drive/MyDrive/Colab Notebooks/Artificial Intelligence/other/Diffusion-GAN/diffusion-stylegan2/dnnlib/util.py\", line 433, in open_url\n",
            "    res.raise_for_status()\n",
            "  File \"/usr/local/lib/python3.8/dist-packages/requests/models.py\", line 941, in raise_for_status\n",
            "    raise HTTPError(http_error_msg, response=self)\n",
            "requests.exceptions.HTTPError: 409 Client Error: Public access is not permitted on this storage account. for url: https://tsciencescu.blob.core.windows.net/projectshzheng/DiffusionGAN/diffusion-stylegan2-ffhq.pkl\n"
          ]
        }
      ]
    }
  ]
}