{
  "nbformat": 4,
  "nbformat_minor": 0,
  "metadata": {
    "colab": {
      "provenance": [],
      "mount_file_id": "12lvB-RsMa_LQSmrBOr7d-mGUDJUA6WqI",
      "authorship_tag": "ABX9TyN/zPu3qgeKx3CcoKJSVpRQ",
      "include_colab_link": true
    },
    "kernelspec": {
      "name": "python3",
      "display_name": "Python 3"
    },
    "language_info": {
      "name": "python"
    },
    "accelerator": "GPU",
    "gpuClass": "standard"
  },
  "cells": [
    {
      "cell_type": "markdown",
      "metadata": {
        "id": "view-in-github",
        "colab_type": "text"
      },
      "source": [
        "<a href=\"https://colab.research.google.com/github/CaryJoeAlmanza/group4aiproject/blob/CaryJoeBranch/DiffFlow.ipynb\" target=\"_parent\"><img src=\"https://colab.research.google.com/assets/colab-badge.svg\" alt=\"Open In Colab\"/></a>"
      ]
    },
    {
      "cell_type": "code",
      "source": [
        "%cd /content/drive/MyDrive/Colab Notebooks/Artificial Intelligence/project"
      ],
      "metadata": {
        "colab": {
          "base_uri": "https://localhost:8080/"
        },
        "id": "wLAHQAQnORS1",
        "outputId": "df32ba6a-555c-412c-8791-81c020c01db0"
      },
      "execution_count": 1,
      "outputs": [
        {
          "output_type": "stream",
          "name": "stdout",
          "text": [
            "/content/drive/MyDrive/Colab Notebooks/Artificial Intelligence/project\n"
          ]
        }
      ]
    },
    {
      "cell_type": "code",
      "source": [
        "! git clone https://github.com/qsh-zh/DiffFlow.git"
      ],
      "metadata": {
        "colab": {
          "base_uri": "https://localhost:8080/"
        },
        "id": "5tJ8cIBLOcS3",
        "outputId": "ab3cd727-64a7-47b0-c595-a47e0b89219d"
      },
      "execution_count": 2,
      "outputs": [
        {
          "output_type": "stream",
          "name": "stdout",
          "text": [
            "fatal: destination path 'DiffFlow' already exists and is not an empty directory.\n"
          ]
        }
      ]
    },
    {
      "cell_type": "code",
      "source": [
        "%cd /content/drive/MyDrive/Colab Notebooks/Artificial Intelligence/project/DiffFlow"
      ],
      "metadata": {
        "colab": {
          "base_uri": "https://localhost:8080/"
        },
        "id": "ZYRI26ERO9X0",
        "outputId": "a8503047-e265-44fa-f91b-07cab113dc8c"
      },
      "execution_count": 3,
      "outputs": [
        {
          "output_type": "stream",
          "name": "stdout",
          "text": [
            "/content/drive/MyDrive/Colab Notebooks/Artificial Intelligence/project/DiffFlow\n"
          ]
        }
      ]
    },
    {
      "cell_type": "code",
      "execution_count": 4,
      "metadata": {
        "colab": {
          "base_uri": "https://localhost:8080/"
        },
        "id": "-41NMqJc0HTp",
        "outputId": "18c32e46-d6a9-48eb-fc9d-9d301baa00f5"
      },
      "outputs": [
        {
          "output_type": "stream",
          "name": "stdout",
          "text": [
            "Looking in indexes: https://pypi.org/simple, https://us-python.pkg.dev/colab-wheels/public/simple/\n",
            "Processing /content/drive/MyDrive/Colab Notebooks/Artificial Intelligence/project/DiffFlow\n",
            "\u001b[33m  DEPRECATION: A future pip version will change local packages to be built in-place without first copying to a temporary directory. We recommend you use --use-feature=in-tree-build to test your packages with this new behavior before it becomes the default.\n",
            "   pip 21.3 will remove support for this functionality. You can find discussion regarding this at https://github.com/pypa/pip/issues/7555.\u001b[0m\n",
            "  Installing build dependencies ... \u001b[?25l\u001b[?25hdone\n",
            "  Getting requirements to build wheel ... \u001b[?25l\u001b[?25hdone\n",
            "    Preparing wheel metadata ... \u001b[?25l\u001b[?25herror\n",
            "\u001b[33mWARNING: Discarding file:///content/drive/MyDrive/Colab%20Notebooks/Artificial%20Intelligence/project/DiffFlow. Command errored out with exit status 1: /usr/bin/python3 /usr/local/lib/python3.8/dist-packages/pip/_vendor/pep517/in_process/_in_process.py prepare_metadata_for_build_wheel /tmp/tmpurzthf_a Check the logs for full command output.\u001b[0m\n",
            "\u001b[31mERROR: Command errored out with exit status 1: /usr/bin/python3 /usr/local/lib/python3.8/dist-packages/pip/_vendor/pep517/in_process/_in_process.py prepare_metadata_for_build_wheel /tmp/tmpurzthf_a Check the logs for full command output.\u001b[0m\n"
          ]
        }
      ],
      "source": [
        "!pip install ."
      ]
    },
    {
      "cell_type": "code",
      "source": [
        "!curl -fsS -o /tmp/get-poetry.py https://raw.githubusercontent.com/sdispater/poetry/master/get-poetry.py\n",
        "!python3 /tmp/get-poetry.py -y --no-modify-path --version 1.1.15"
      ],
      "metadata": {
        "colab": {
          "base_uri": "https://localhost:8080/"
        },
        "id": "CaVkgEazJmYX",
        "outputId": "a890fc33-58da-4941-9c77-14b5ab64990f"
      },
      "execution_count": 12,
      "outputs": [
        {
          "output_type": "stream",
          "name": "stdout",
          "text": [
            "\u001b[32mRetrieving Poetry metadata\u001b[0m\n",
            "\n",
            "\u001b[35mThis installer is deprecated, and scheduled for removal from the Poetry repository on or after January 1, 2023.\n",
            "See https://github.com/python-poetry/poetry/issues/6377 for details.\n",
            "\n",
            "You should migrate to https://install.python-poetry.org instead, which supports all versions of Poetry, and allows for `self update` of versions 1.1.7 or newer.\n",
            "Instructions are available at https://python-poetry.org/docs/#installation.\n",
            "\u001b[0m\n",
            "# Welcome to \u001b[32mPoetry\u001b[0m!\n",
            "\n",
            "This will download and install the latest version of \u001b[32mPoetry\u001b[0m,\n",
            "a dependency and package manager for Python.\n",
            "\n",
            "It will add the `poetry` command to \u001b[32mPoetry\u001b[0m's bin directory, located at:\n",
            "\n",
            "\u001b[33m$HOME/.poetry/bin\u001b[0m\n",
            "\n",
            "This path needs to be in your `PATH` environment variable,\n",
            "but will not be added automatically.\n",
            "\n",
            "You can uninstall at any time by executing this script with the --uninstall option,\n",
            "and these changes will be reverted.\n",
            "\n",
            "Installing version: \u001b[32m1.1.15\u001b[0m\n",
            "  - Downloading \u001b[33mpoetry-1.1.15-linux.tar.gz\u001b[0m (97.94MB)\n",
            "\n",
            "\u001b[32mPoetry\u001b[0m (\u001b[33m1.1.15\u001b[0m) is installed now. Great!\n",
            "\n",
            "To get started you need \u001b[32mPoetry\u001b[0m's bin directory (\u001b[33m$HOME/.poetry/bin\u001b[0m) in your `PATH`\n",
            "environment variable.\n",
            "\n",
            "To configure your current shell run `source \u001b[33m$HOME/.poetry/env\u001b[0m`\n",
            "\n",
            "/bin/bash: poetry: command not found\n",
            "/bin/bash: poetry: command not found\n"
          ]
        }
      ]
    },
    {
      "cell_type": "code",
      "source": [
        "!pip install -q --pre poetry\n",
        "!poetry --version"
      ],
      "metadata": {
        "colab": {
          "base_uri": "https://localhost:8080/"
        },
        "id": "rFzejL6jQdYh",
        "outputId": "a955e567-b640-42f0-f7b9-e18d234994cf"
      },
      "execution_count": 5,
      "outputs": [
        {
          "output_type": "stream",
          "name": "stdout",
          "text": [
            "\u001b[K     |████████████████████████████████| 212 kB 17.8 MB/s \n",
            "\u001b[K     |████████████████████████████████| 140 kB 74.2 MB/s \n",
            "\u001b[K     |████████████████████████████████| 502 kB 49.4 MB/s \n",
            "\u001b[K     |████████████████████████████████| 90 kB 11.7 MB/s \n",
            "\u001b[K     |████████████████████████████████| 8.8 MB 70.3 MB/s \n",
            "\u001b[K     |████████████████████████████████| 531 kB 73.9 MB/s \n",
            "\u001b[K     |████████████████████████████████| 78 kB 9.7 MB/s \n",
            "\u001b[K     |████████████████████████████████| 54 kB 3.6 MB/s \n",
            "\u001b[K     |████████████████████████████████| 48 kB 6.3 MB/s \n",
            "\u001b[K     |████████████████████████████████| 62 kB 862 kB/s \n",
            "\u001b[K     |████████████████████████████████| 4.0 MB 60.1 MB/s \n",
            "\u001b[K     |████████████████████████████████| 468 kB 75.9 MB/s \n",
            "\u001b[?25h\u001b[39;1mPoetry\u001b[39;22m (version \u001b[36m1.2.2\u001b[39m)\n"
          ]
        }
      ]
    },
    {
      "cell_type": "code",
      "source": [
        "!pip install ipykernel"
      ],
      "metadata": {
        "colab": {
          "base_uri": "https://localhost:8080/"
        },
        "id": "yDjifDiVSKjE",
        "outputId": "20067ff3-d48c-4aa6-fe65-1a0cf23025f8"
      },
      "execution_count": 6,
      "outputs": [
        {
          "output_type": "stream",
          "name": "stdout",
          "text": [
            "Looking in indexes: https://pypi.org/simple, https://us-python.pkg.dev/colab-wheels/public/simple/\n",
            "Requirement already satisfied: ipykernel in /usr/local/lib/python3.8/dist-packages (5.3.4)\n",
            "Requirement already satisfied: jupyter-client in /usr/local/lib/python3.8/dist-packages (from ipykernel) (6.1.12)\n",
            "Requirement already satisfied: ipython>=5.0.0 in /usr/local/lib/python3.8/dist-packages (from ipykernel) (7.9.0)\n",
            "Requirement already satisfied: tornado>=4.2 in /usr/local/lib/python3.8/dist-packages (from ipykernel) (6.0.4)\n",
            "Requirement already satisfied: traitlets>=4.1.0 in /usr/local/lib/python3.8/dist-packages (from ipykernel) (5.1.1)\n",
            "Requirement already satisfied: setuptools>=18.5 in /usr/local/lib/python3.8/dist-packages (from ipython>=5.0.0->ipykernel) (57.4.0)\n",
            "Collecting jedi>=0.10\n",
            "  Downloading jedi-0.18.2-py2.py3-none-any.whl (1.6 MB)\n",
            "\u001b[K     |████████████████████████████████| 1.6 MB 14.8 MB/s \n",
            "\u001b[?25hRequirement already satisfied: pygments in /usr/local/lib/python3.8/dist-packages (from ipython>=5.0.0->ipykernel) (2.6.1)\n",
            "Requirement already satisfied: decorator in /usr/local/lib/python3.8/dist-packages (from ipython>=5.0.0->ipykernel) (4.4.2)\n",
            "Requirement already satisfied: pickleshare in /usr/local/lib/python3.8/dist-packages (from ipython>=5.0.0->ipykernel) (0.7.5)\n",
            "Requirement already satisfied: prompt-toolkit<2.1.0,>=2.0.0 in /usr/local/lib/python3.8/dist-packages (from ipython>=5.0.0->ipykernel) (2.0.10)\n",
            "Requirement already satisfied: pexpect in /usr/local/lib/python3.8/dist-packages (from ipython>=5.0.0->ipykernel) (4.8.0)\n",
            "Requirement already satisfied: backcall in /usr/local/lib/python3.8/dist-packages (from ipython>=5.0.0->ipykernel) (0.2.0)\n",
            "Requirement already satisfied: parso<0.9.0,>=0.8.0 in /usr/local/lib/python3.8/dist-packages (from jedi>=0.10->ipython>=5.0.0->ipykernel) (0.8.3)\n",
            "Requirement already satisfied: wcwidth in /usr/local/lib/python3.8/dist-packages (from prompt-toolkit<2.1.0,>=2.0.0->ipython>=5.0.0->ipykernel) (0.2.5)\n",
            "Requirement already satisfied: six>=1.9.0 in /usr/local/lib/python3.8/dist-packages (from prompt-toolkit<2.1.0,>=2.0.0->ipython>=5.0.0->ipykernel) (1.15.0)\n",
            "Requirement already satisfied: pyzmq>=13 in /usr/local/lib/python3.8/dist-packages (from jupyter-client->ipykernel) (23.2.1)\n",
            "Requirement already satisfied: python-dateutil>=2.1 in /usr/local/lib/python3.8/dist-packages (from jupyter-client->ipykernel) (2.8.2)\n",
            "Requirement already satisfied: jupyter-core>=4.6.0 in /usr/local/lib/python3.8/dist-packages (from jupyter-client->ipykernel) (4.11.2)\n",
            "Requirement already satisfied: ptyprocess>=0.5 in /usr/local/lib/python3.8/dist-packages (from pexpect->ipython>=5.0.0->ipykernel) (0.7.0)\n",
            "Installing collected packages: jedi\n",
            "Successfully installed jedi-0.18.2\n"
          ]
        }
      ]
    },
    {
      "cell_type": "code",
      "source": [
        "# !export PATH=$HOME/.poetry/bin:$PATH\n",
        "!export PATH=\"$HOME/.poetry/bin:$PATH\"\n",
        "!poetry shell\n",
        "# !poetry install"
      ],
      "metadata": {
        "colab": {
          "base_uri": "https://localhost:8080/"
        },
        "id": "oGoHumViP2U5",
        "outputId": "2f8c892b-56f2-457f-d897-822997dee410"
      },
      "execution_count": null,
      "outputs": [
        {
          "output_type": "stream",
          "name": "stdout",
          "text": [
            "Creating virtualenv \u001b[36mdiffflow-XlBzymWG-py3.8\u001b[39m in /root/.cache/pypoetry/virtualenvs\n",
            "Spawning shell within \u001b[34m/root/.cache/pypoetry/virtualenvs/diffflow-XlBzymWG-py3.8\u001b[39m\n",
            " . /root/.cache/pypoetry/virtualenvs/diffflow-XlBzymWG-py3.8/bin/activate\n",
            "project/DiffFlow\u001b[00m# poetry install\n",
            "\u001b[34mInstalling dependencies from lock file\u001b[39m\n",
            "\u001b[33mWarning: poetry.lock is not consistent with pyproject.toml. You may be getting improper dependencies. Run `poetry lock [--no-update]` to fix it.\u001b[39m\n",
            "\n",
            "\u001b[39;1mPackage operations\u001b[39;22m: \u001b[34m95\u001b[39m installs, \u001b[34m0\u001b[39m updates, \u001b[34m0\u001b[39m removals\n",
            "\n",
            "  \u001b[34;1m•\u001b[39;22m \u001b[39mInstalling \u001b[39m\u001b[36mparso\u001b[39m\u001b[39m (\u001b[39m\u001b[39;1m0.8.2\u001b[39;22m\u001b[39m)\u001b[39m: \u001b[34mPending...\u001b[39m\n",
            "  \u001b[34;1m•\u001b[39;22m \u001b[39mInstalling \u001b[39m\u001b[36mptyprocess\u001b[39m\u001b[39m (\u001b[39m\u001b[39;1m0.7.0\u001b[39;22m\u001b[39m)\u001b[39m: \u001b[34mPending...\u001b[39m\n",
            "  \u001b[34;1m•\u001b[39;22m \u001b[39mInstalling \u001b[39m\u001b[36msmmap\u001b[39m\u001b[39m (\u001b[39m\u001b[39;1m4.0.0\u001b[39;22m\u001b[39m)\u001b[39m: \u001b[34mPending...\u001b[39m\n",
            "  \u001b[34;1m•\u001b[39;22m \u001b[39mInstalling \u001b[39m\u001b[36mtraitlets\u001b[39m\u001b[39m (\u001b[39m\u001b[39;1m5.1.0\u001b[39;22m\u001b[39m)\u001b[39m: \u001b[34mPending...\u001b[39m\n",
            "  \u001b[34;1m•\u001b[39;22m \u001b[39mInstalling \u001b[39m\u001b[36mwcwidth\u001b[39m\u001b[39m (\u001b[39m\u001b[39;1m0.2.5\u001b[39;22m\u001b[39m)\u001b[39m: \u001b[34mPending...\u001b[39m\n",
            "\u001b[1A\u001b[0J  \u001b[34;1m•\u001b[39;22m \u001b[39mInstalling \u001b[39m\u001b[36mwcwidth\u001b[39m\u001b[39m (\u001b[39m\u001b[39;1m0.2.5\u001b[39;22m\u001b[39m)\u001b[39m: \u001b[34mDownloading...\u001b[39m \u001b[39;1m0%\u001b[39;22m\n",
            "\u001b[1A\u001b[0J  \u001b[34;1m•\u001b[39;22m \u001b[39mInstalling \u001b[39m\u001b[36mwcwidth\u001b[39m\u001b[39m (\u001b[39m\u001b[39;1m0.2.5\u001b[39;22m\u001b[39m)\u001b[39m: \u001b[34mDownloading...\u001b[39m \u001b[39;1m100%\u001b[39;22m\n",
            "\u001b[1A\u001b[0J  \u001b[34;1m•\u001b[39;22m \u001b[39mInstalling \u001b[39m\u001b[36mwcwidth\u001b[39m\u001b[39m (\u001b[39m\u001b[39;1m0.2.5\u001b[39;22m\u001b[39m)\u001b[39m: \u001b[34mInstalling...\u001b[39m\n",
            "\u001b[4A\u001b[0J  \u001b[34;1m•\u001b[39;22m \u001b[39mInstalling \u001b[39m\u001b[36msmmap\u001b[39m\u001b[39m (\u001b[39m\u001b[39;1m4.0.0\u001b[39;22m\u001b[39m)\u001b[39m: \u001b[34mPending...\u001b[39m\n",
            "  \u001b[34;1m•\u001b[39;22m \u001b[39mInstalling \u001b[39m\u001b[36mtraitlets\u001b[39m\u001b[39m (\u001b[39m\u001b[39;1m5.1.0\u001b[39;22m\u001b[39m)\u001b[39m: \u001b[34mPending...\u001b[39m\n",
            "  \u001b[34;1m•\u001b[39;22m \u001b[39mInstalling \u001b[39m\u001b[36mwcwidth\u001b[39m\u001b[39m (\u001b[39m\u001b[39;1m0.2.5\u001b[39;22m\u001b[39m)\u001b[39m: \u001b[34mInstalling...\u001b[39m\n",
            "\u001b[3A\u001b[0J  \u001b[34;1m•\u001b[39;22m \u001b[39mInstalling \u001b[39m\u001b[36mptyprocess\u001b[39m\u001b[39m (\u001b[39m\u001b[39;1m0.7.0\u001b[39;22m\u001b[39m)\u001b[39m: \u001b[34mDownloading...\u001b[39m \u001b[39;1m0%\u001b[39;22m\n",
            "  \u001b[34;1m•\u001b[39;22m \u001b[39mInstalling \u001b[39m\u001b[36msmmap\u001b[39m\u001b[39m (\u001b[39m\u001b[39;1m4.0.0\u001b[39;22m\u001b[39m)\u001b[39m: \u001b[34mPending...\u001b[39m\n",
            "  \u001b[34;1m•\u001b[39;22m \u001b[39mInstalling \u001b[39m\u001b[36mtraitlets\u001b[39m\u001b[39m (\u001b[39m\u001b[39;1m5.1.0\u001b[39;22m\u001b[39m)\u001b[39m: \u001b[34mPending...\u001b[39m\n",
            "  \u001b[34;1m•\u001b[39;22m \u001b[39mInstalling \u001b[39m\u001b[36mwcwidth\u001b[39m\u001b[39m (\u001b[39m\u001b[39;1m0.2.5\u001b[39;22m\u001b[39m)\u001b[39m: \u001b[34mInstalling...\u001b[39m\n",
            "\u001b[4A\u001b[0J  \u001b[34;1m•\u001b[39;22m \u001b[39mInstalling \u001b[39m\u001b[36msmmap\u001b[39m\u001b[39m (\u001b[39m\u001b[39;1m4.0.0\u001b[39;22m\u001b[39m)\u001b[39m: \u001b[34mPending...\u001b[39m\n",
            "  \u001b[34;1m•\u001b[39;22m \u001b[39mInstalling \u001b[39m\u001b[36mtraitlets\u001b[39m\u001b[39m (\u001b[39m\u001b[39;1m5.1.0\u001b[39;22m\u001b[39m)\u001b[39m: \u001b[34mPending...\u001b[39m\n",
            "  \u001b[34;1m•\u001b[39;22m \u001b[39mInstalling \u001b[39m\u001b[36mwcwidth\u001b[39m\u001b[39m (\u001b[39m\u001b[39;1m0.2.5\u001b[39;22m\u001b[39m)\u001b[39m: \u001b[34mInstalling...\u001b[39m\n",
            "\u001b[3A\u001b[0J  \u001b[34;1m•\u001b[39;22m \u001b[39mInstalling \u001b[39m\u001b[36mptyprocess\u001b[39m\u001b[39m (\u001b[39m\u001b[39;1m0.7.0\u001b[39;22m\u001b[39m)\u001b[39m: \u001b[34mDownloading...\u001b[39m \u001b[39;1m100%\u001b[39;22m\n",
            "  \u001b[34;1m•\u001b[39;22m \u001b[39mInstalling \u001b[39m\u001b[36msmmap\u001b[39m\u001b[39m (\u001b[39m\u001b[39;1m4.0.0\u001b[39;22m\u001b[39m)\u001b[39m: \u001b[34mPending...\u001b[39m\n",
            "  \u001b[34;1m•\u001b[39;22m \u001b[39mInstalling \u001b[39m\u001b[36mtraitlets\u001b[39m\u001b[39m (\u001b[39m\u001b[39;1m5.1.0\u001b[39;22m\u001b[39m)\u001b[39m: \u001b[34mPending...\u001b[39m\n",
            "  \u001b[34;1m•\u001b[39;22m \u001b[39mInstalling \u001b[39m\u001b[36mwcwidth\u001b[39m\u001b[39m (\u001b[39m\u001b[39;1m0.2.5\u001b[39;22m\u001b[39m)\u001b[39m: \u001b[34mInstalling...\u001b[39m\n",
            "\u001b[4A\u001b[0J  \u001b[34;1m•\u001b[39;22m \u001b[39mInstalling \u001b[39m\u001b[36msmmap\u001b[39m\u001b[39m (\u001b[39m\u001b[39;1m4.0.0\u001b[39;22m\u001b[39m)\u001b[39m: \u001b[34mPending...\u001b[39m\n",
            "  \u001b[34;1m•\u001b[39;22m \u001b[39mInstalling \u001b[39m\u001b[36mtraitlets\u001b[39m\u001b[39m (\u001b[39m\u001b[39;1m5.1.0\u001b[39;22m\u001b[39m)\u001b[39m: \u001b[34mPending...\u001b[39m\n",
            "  \u001b[34;1m•\u001b[39;22m \u001b[39mInstalling \u001b[39m\u001b[36mwcwidth\u001b[39m\u001b[39m (\u001b[39m\u001b[39;1m0.2.5\u001b[39;22m\u001b[39m)\u001b[39m: \u001b[34mInstalling...\u001b[39m\n",
            "\u001b[3A\u001b[0J  \u001b[34;1m•\u001b[39;22m \u001b[39mInstalling \u001b[39m\u001b[36mptyprocess\u001b[39m\u001b[39m (\u001b[39m\u001b[39;1m0.7.0\u001b[39;22m\u001b[39m)\u001b[39m: \u001b[34mInstalling...\u001b[39m\n",
            "  \u001b[34;1m•\u001b[39;22m \u001b[39mInstalling \u001b[39m\u001b[36msmmap\u001b[39m\u001b[39m (\u001b[39m\u001b[39;1m4.0.0\u001b[39;22m\u001b[39m)\u001b[39m: \u001b[34mPending...\u001b[39m\n",
            "  \u001b[34;1m•\u001b[39;22m \u001b[39mInstalling \u001b[39m\u001b[36mtraitlets\u001b[39m\u001b[39m (\u001b[39m\u001b[39;1m5.1.0\u001b[39;22m\u001b[39m)\u001b[39m: \u001b[34mPending...\u001b[39m\n",
            "  \u001b[34;1m•\u001b[39;22m \u001b[39mInstalling \u001b[39m\u001b[36mwcwidth\u001b[39m\u001b[39m (\u001b[39m\u001b[39;1m0.2.5\u001b[39;22m\u001b[39m)\u001b[39m: \u001b[34mInstalling...\u001b[39m\n",
            "\u001b[5A\u001b[0J  \u001b[34;1m•\u001b[39;22m \u001b[39mInstalling \u001b[39m\u001b[36mptyprocess\u001b[39m\u001b[39m (\u001b[39m\u001b[39;1m0.7.0\u001b[39;22m\u001b[39m)\u001b[39m: \u001b[34mInstalling...\u001b[39m\n",
            "  \u001b[34;1m•\u001b[39;22m \u001b[39mInstalling \u001b[39m\u001b[36msmmap\u001b[39m\u001b[39m (\u001b[39m\u001b[39;1m4.0.0\u001b[39;22m\u001b[39m)\u001b[39m: \u001b[34mPending...\u001b[39m\n",
            "  \u001b[34;1m•\u001b[39;22m \u001b[39mInstalling \u001b[39m\u001b[36mtraitlets\u001b[39m\u001b[39m (\u001b[39m\u001b[39;1m5.1.0\u001b[39;22m\u001b[39m)\u001b[39m: \u001b[34mPending...\u001b[39m\n",
            "  \u001b[34;1m•\u001b[39;22m \u001b[39mInstalling \u001b[39m\u001b[36mwcwidth\u001b[39m\u001b[39m (\u001b[39m\u001b[39;1m0.2.5\u001b[39;22m\u001b[39m)\u001b[39m: \u001b[34mInstalling...\u001b[39m\n",
            "\u001b[4A\u001b[0J  \u001b[34;1m•\u001b[39;22m \u001b[39mInstalling \u001b[39m\u001b[36mparso\u001b[39m\u001b[39m (\u001b[39m\u001b[39;1m0.8.2\u001b[39;22m\u001b[39m)\u001b[39m: \u001b[34mDownloading...\u001b[39m \u001b[39;1m0%\u001b[39;22m\n",
            "  \u001b[34;1m•\u001b[39;22m \u001b[39mInstalling \u001b[39m\u001b[36mptyprocess\u001b[39m\u001b[39m (\u001b[39m\u001b[39;1m0.7.0\u001b[39;22m\u001b[39m)\u001b[39m: \u001b[34mInstalling...\u001b[39m\n",
            "  \u001b[34;1m•\u001b[39;22m \u001b[39mInstalling \u001b[39m\u001b[36msmmap\u001b[39m\u001b[39m (\u001b[39m\u001b[39;1m4.0.0\u001b[39;22m\u001b[39m)\u001b[39m: \u001b[34mPending...\u001b[39m\n",
            "  \u001b[34;1m•\u001b[39;22m \u001b[39mInstalling \u001b[39m\u001b[36mtraitlets\u001b[39m\u001b[39m (\u001b[39m\u001b[39;1m5.1.0\u001b[39;22m\u001b[39m)\u001b[39m: \u001b[34mPending...\u001b[39m\n",
            "  \u001b[34;1m•\u001b[39;22m \u001b[39mInstalling \u001b[39m\u001b[36mwcwidth\u001b[39m\u001b[39m (\u001b[39m\u001b[39;1m0.2.5\u001b[39;22m\u001b[39m)\u001b[39m: \u001b[34mInstalling...\u001b[39m\n",
            "\u001b[2A\u001b[0J  \u001b[34;1m•\u001b[39;22m \u001b[39mInstalling \u001b[39m\u001b[36mwcwidth\u001b[39m\u001b[39m (\u001b[39m\u001b[39;1m0.2.5\u001b[39;22m\u001b[39m)\u001b[39m: \u001b[34mInstalling...\u001b[39m\n",
            "\u001b[1A\u001b[0J  \u001b[34;1m•\u001b[39;22m \u001b[39mInstalling \u001b[39m\u001b[36mtraitlets\u001b[39m\u001b[39m (\u001b[39m\u001b[39;1m5.1.0\u001b[39;22m\u001b[39m)\u001b[39m: \u001b[34mDownloading...\u001b[39m \u001b[39;1m0%\u001b[39;22m\n",
            "  \u001b[34;1m•\u001b[39;22m \u001b[39mInstalling \u001b[39m\u001b[36mwcwidth\u001b[39m\u001b[39m (\u001b[39m\u001b[39;1m0.2.5\u001b[39;22m\u001b[39m)\u001b[39m: \u001b[34mInstalling...\u001b[39m\n",
            "\u001b[5A\u001b[0J  \u001b[34;1m•\u001b[39;22m \u001b[39mInstalling \u001b[39m\u001b[36mptyprocess\u001b[39m\u001b[39m (\u001b[39m\u001b[39;1m0.7.0\u001b[39;22m\u001b[39m)\u001b[39m: \u001b[34mInstalling...\u001b[39m\n",
            "  \u001b[34;1m•\u001b[39;22m \u001b[39mInstalling \u001b[39m\u001b[36msmmap\u001b[39m\u001b[39m (\u001b[39m\u001b[39;1m4.0.0\u001b[39;22m\u001b[39m)\u001b[39m: \u001b[34mPending...\u001b[39m\n",
            "  \u001b[34;1m•\u001b[39;22m \u001b[39mInstalling \u001b[39m\u001b[36mtraitlets\u001b[39m\u001b[39m (\u001b[39m\u001b[39;1m5.1.0\u001b[39;22m\u001b[39m)\u001b[39m: \u001b[34mDownloading...\u001b[39m \u001b[39;1m0%\u001b[39;22m\n",
            "  \u001b[34;1m•\u001b[39;22m \u001b[39mInstalling \u001b[39m\u001b[36mwcwidth\u001b[39m\u001b[39m (\u001b[39m\u001b[39;1m0.2.5\u001b[39;22m\u001b[39m)\u001b[39m: \u001b[34mInstalling...\u001b[39m\n",
            "\u001b[4A\u001b[0J  \u001b[34;1m•\u001b[39;22m \u001b[39mInstalling \u001b[39m\u001b[36mparso\u001b[39m\u001b[39m (\u001b[39m\u001b[39;1m0.8.2\u001b[39;22m\u001b[39m)\u001b[39m: \u001b[34mDownloading...\u001b[39m \u001b[39;1m100%\u001b[39;22m\n",
            "  \u001b[34;1m•\u001b[39;22m \u001b[39mInstalling \u001b[39m\u001b[36mptyprocess\u001b[39m\u001b[39m (\u001b[39m\u001b[39;1m0.7.0\u001b[39;22m\u001b[39m)\u001b[39m: \u001b[34mInstalling...\u001b[39m\n",
            "  \u001b[34;1m•\u001b[39;22m \u001b[39mInstalling \u001b[39m\u001b[36msmmap\u001b[39m\u001b[39m (\u001b[39m\u001b[39;1m4.0.0\u001b[39;22m\u001b[39m)\u001b[39m: \u001b[34mPending...\u001b[39m\n",
            "  \u001b[34;1m•\u001b[39;22m \u001b[39mInstalling \u001b[39m\u001b[36mtraitlets\u001b[39m\u001b[39m (\u001b[39m\u001b[39;1m5.1.0\u001b[39;22m\u001b[39m)\u001b[39m: \u001b[34mDownloading...\u001b[39m \u001b[39;1m0%\u001b[39;22m\n",
            "  \u001b[34;1m•\u001b[39;22m \u001b[39mInstalling \u001b[39m\u001b[36mwcwidth\u001b[39m\u001b[39m (\u001b[39m\u001b[39;1m0.2.5\u001b[39;22m\u001b[39m)\u001b[39m: \u001b[34mInstalling...\u001b[39m\n",
            "\u001b[2A\u001b[0J  \u001b[34;1m•\u001b[39;22m \u001b[39mInstalling \u001b[39m\u001b[36mwcwidth\u001b[39m\u001b[39m (\u001b[39m\u001b[39;1m0.2.5\u001b[39;22m\u001b[39m)\u001b[39m: \u001b[34mInstalling...\u001b[39m\n",
            "\u001b[1A\u001b[0J  \u001b[34;1m•\u001b[39;22m \u001b[39mInstalling \u001b[39m\u001b[36mtraitlets\u001b[39m\u001b[39m (\u001b[39m\u001b[39;1m5.1.0\u001b[39;22m\u001b[39m)\u001b[39m: \u001b[34mDownloading...\u001b[39m \u001b[39;1m100%\u001b[39;22m\n",
            "  \u001b[34;1m•\u001b[39;22m \u001b[39mInstalling \u001b[39m\u001b[36mwcwidth\u001b[39m\u001b[39m (\u001b[39m\u001b[39;1m0.2.5\u001b[39;22m\u001b[39m)\u001b[39m: \u001b[34mInstalling...\u001b[39m\n",
            "\u001b[5A\u001b[0J  \u001b[34;1m•\u001b[39;22m \u001b[39mInstalling \u001b[39m\u001b[36mptyprocess\u001b[39m\u001b[39m (\u001b[39m\u001b[39;1m0.7.0\u001b[39;22m\u001b[39m)\u001b[39m: \u001b[34mInstalling...\u001b[39m\n",
            "  \u001b[34;1m•\u001b[39;22m \u001b[39mInstalling \u001b[39m\u001b[36msmmap\u001b[39m\u001b[39m (\u001b[39m\u001b[39;1m4.0.0\u001b[39;22m\u001b[39m)\u001b[39m: \u001b[34mPending...\u001b[39m\n",
            "  \u001b[34;1m•\u001b[39;22m \u001b[39mInstalling \u001b[39m\u001b[36mtraitlets\u001b[39m\u001b[39m (\u001b[39m\u001b[39;1m5.1.0\u001b[39;22m\u001b[39m)\u001b[39m: \u001b[34mDownloading...\u001b[39m \u001b[39;1m100%\u001b[39;22m\n",
            "  \u001b[34;1m•\u001b[39;22m \u001b[39mInstalling \u001b[39m\u001b[36mwcwidth\u001b[39m\u001b[39m (\u001b[39m\u001b[39;1m0.2.5\u001b[39;22m\u001b[39m)\u001b[39m: \u001b[34mInstalling...\u001b[39m\n",
            "\u001b[4A\u001b[0J  \u001b[34;1m•\u001b[39;22m \u001b[39mInstalling \u001b[39m\u001b[36mparso\u001b[39m\u001b[39m (\u001b[39m\u001b[39;1m0.8.2\u001b[39;22m\u001b[39m)\u001b[39m: \u001b[34mInstalling...\u001b[39m\n",
            "  \u001b[34;1m•\u001b[39;22m \u001b[39mInstalling \u001b[39m\u001b[36mptyprocess\u001b[39m\u001b[39m (\u001b[39m\u001b[39;1m0.7.0\u001b[39;22m\u001b[39m)\u001b[39m: \u001b[34mInstalling...\u001b[39m\n",
            "  \u001b[34;1m•\u001b[39;22m \u001b[39mInstalling \u001b[39m\u001b[36msmmap\u001b[39m\u001b[39m (\u001b[39m\u001b[39;1m4.0.0\u001b[39;22m\u001b[39m)\u001b[39m: \u001b[34mPending...\u001b[39m\n",
            "  \u001b[34;1m•\u001b[39;22m \u001b[39mInstalling \u001b[39m\u001b[36mtraitlets\u001b[39m\u001b[39m (\u001b[39m\u001b[39;1m5.1.0\u001b[39;22m\u001b[39m)\u001b[39m: \u001b[34mDownloading...\u001b[39m \u001b[39;1m100%\u001b[39;22m\n",
            "  \u001b[34;1m•\u001b[39;22m \u001b[39mInstalling \u001b[39m\u001b[36mwcwidth\u001b[39m\u001b[39m (\u001b[39m\u001b[39;1m0.2.5\u001b[39;22m\u001b[39m)\u001b[39m: \u001b[34mInstalling...\u001b[39m\n",
            "\u001b[2A\u001b[0J  \u001b[34;1m•\u001b[39;22m \u001b[39mInstalling \u001b[39m\u001b[36mwcwidth\u001b[39m\u001b[39m (\u001b[39m\u001b[39;1m0.2.5\u001b[39;22m\u001b[39m)\u001b[39m: \u001b[34mInstalling...\u001b[39m\n",
            "\u001b[1A\u001b[0J  \u001b[34;1m•\u001b[39;22m \u001b[39mInstalling \u001b[39m\u001b[36mtraitlets\u001b[39m\u001b[39m (\u001b[39m\u001b[39;1m5.1.0\u001b[39;22m\u001b[39m)\u001b[39m: \u001b[34mInstalling...\u001b[39m\n",
            "  \u001b[34;1m•\u001b[39;22m \u001b[39mInstalling \u001b[39m\u001b[36mwcwidth\u001b[39m\u001b[39m (\u001b[39m\u001b[39;1m0.2.5\u001b[39;22m\u001b[39m)\u001b[39m: \u001b[34mInstalling...\u001b[39m\n",
            "\u001b[3A\u001b[0J  \u001b[34;1m•\u001b[39;22m \u001b[39mInstalling \u001b[39m\u001b[36mtraitlets\u001b[39m\u001b[39m (\u001b[39m\u001b[39;1m5.1.0\u001b[39;22m\u001b[39m)\u001b[39m: \u001b[34mInstalling...\u001b[39m\n",
            "  \u001b[34;1m•\u001b[39;22m \u001b[39mInstalling \u001b[39m\u001b[36mwcwidth\u001b[39m\u001b[39m (\u001b[39m\u001b[39;1m0.2.5\u001b[39;22m\u001b[39m)\u001b[39m: \u001b[34mInstalling...\u001b[39m\n",
            "\u001b[2A\u001b[0J  \u001b[34;1m•\u001b[39;22m \u001b[39mInstalling \u001b[39m\u001b[36msmmap\u001b[39m\u001b[39m (\u001b[39m\u001b[39;1m4.0.0\u001b[39;22m\u001b[39m)\u001b[39m: \u001b[34mDownloading...\u001b[39m \u001b[39;1m0%\u001b[39;22m\n",
            "  \u001b[34;1m•\u001b[39;22m \u001b[39mInstalling \u001b[39m\u001b[36mtraitlets\u001b[39m\u001b[39m (\u001b[39m\u001b[39;1m5.1.0\u001b[39;22m\u001b[39m)\u001b[39m: \u001b[34mInstalling...\u001b[39m\n",
            "  \u001b[34;1m•\u001b[39;22m \u001b[39mInstalling \u001b[39m\u001b[36mwcwidth\u001b[39m\u001b[39m (\u001b[39m\u001b[39;1m0.2.5\u001b[39;22m\u001b[39m)\u001b[39m: \u001b[34mInstalling...\u001b[39m\n",
            "\u001b[3A\u001b[0J  \u001b[34;1m•\u001b[39;22m \u001b[39mInstalling \u001b[39m\u001b[36mtraitlets\u001b[39m\u001b[39m (\u001b[39m\u001b[39;1m5.1.0\u001b[39;22m\u001b[39m)\u001b[39m: \u001b[34mInstalling...\u001b[39m\n",
            "  \u001b[34;1m•\u001b[39;22m \u001b[39mInstalling \u001b[39m\u001b[36mwcwidth\u001b[39m\u001b[39m (\u001b[39m\u001b[39;1m0.2.5\u001b[39;22m\u001b[39m)\u001b[39m: \u001b[34mInstalling...\u001b[39m\n",
            "\u001b[2A\u001b[0J  \u001b[34;1m•\u001b[39;22m \u001b[39mInstalling \u001b[39m\u001b[36msmmap\u001b[39m\u001b[39m (\u001b[39m\u001b[39;1m4.0.0\u001b[39;22m\u001b[39m)\u001b[39m: \u001b[34mDownloading...\u001b[39m \u001b[39;1m100%\u001b[39;22m\n",
            "  \u001b[34;1m•\u001b[39;22m \u001b[39mInstalling \u001b[39m\u001b[36mtraitlets\u001b[39m\u001b[39m (\u001b[39m\u001b[39;1m5.1.0\u001b[39;22m\u001b[39m)\u001b[39m: \u001b[34mInstalling...\u001b[39m\n",
            "  \u001b[34;1m•\u001b[39;22m \u001b[39mInstalling \u001b[39m\u001b[36mwcwidth\u001b[39m\u001b[39m (\u001b[39m\u001b[39;1m0.2.5\u001b[39;22m\u001b[39m)\u001b[39m: \u001b[34mInstalling...\u001b[39m\n",
            "\u001b[3A\u001b[0J  \u001b[34;1m•\u001b[39;22m \u001b[39mInstalling \u001b[39m\u001b[36mtraitlets\u001b[39m\u001b[39m (\u001b[39m\u001b[39;1m5.1.0\u001b[39;22m\u001b[39m)\u001b[39m: \u001b[34mInstalling...\u001b[39m\n",
            "  \u001b[34;1m•\u001b[39;22m \u001b[39mInstalling \u001b[39m\u001b[36mwcwidth\u001b[39m\u001b[39m (\u001b[39m\u001b[39;1m0.2.5\u001b[39;22m\u001b[39m)\u001b[39m: \u001b[34mInstalling...\u001b[39m\n",
            "\u001b[2A\u001b[0J  \u001b[34;1m•\u001b[39;22m \u001b[39mInstalling \u001b[39m\u001b[36msmmap\u001b[39m\u001b[39m (\u001b[39m\u001b[39;1m4.0.0\u001b[39;22m\u001b[39m)\u001b[39m: \u001b[34mInstalling...\u001b[39m\n",
            "  \u001b[34;1m•\u001b[39;22m \u001b[39mInstalling \u001b[39m\u001b[36mtraitlets\u001b[39m\u001b[39m (\u001b[39m\u001b[39;1m5.1.0\u001b[39;22m\u001b[39m)\u001b[39m: \u001b[34mInstalling...\u001b[39m\n",
            "  \u001b[34;1m•\u001b[39;22m \u001b[39mInstalling \u001b[39m\u001b[36mwcwidth\u001b[39m\u001b[39m (\u001b[39m\u001b[39;1m0.2.5\u001b[39;22m\u001b[39m)\u001b[39m: \u001b[34mInstalling...\u001b[39m\n",
            "\u001b[3A\u001b[0J  \u001b[34;1m•\u001b[39;22m \u001b[39mInstalling \u001b[39m\u001b[36mtraitlets\u001b[39m\u001b[39m (\u001b[39m\u001b[39;1m5.1.0\u001b[39;22m\u001b[39m)\u001b[39m: \u001b[34mInstalling...\u001b[39m\n",
            "  \u001b[34;1m•\u001b[39;22m \u001b[39mInstalling \u001b[39m\u001b[36mwcwidth\u001b[39m\u001b[39m (\u001b[39m\u001b[39;1m0.2.5\u001b[39;22m\u001b[39m)\u001b[39m: \u001b[34mInstalling...\u001b[39m\n",
            "\u001b[2A\u001b[0J  \u001b[32;1m•\u001b[39;22m \u001b[39mInstalling \u001b[39m\u001b[36msmmap\u001b[39m\u001b[39m (\u001b[39m\u001b[32m4.0.0\u001b[39m\u001b[39m)\u001b[39m\n",
            "  \u001b[34;1m•\u001b[39;22m \u001b[39mInstalling \u001b[39m\u001b[36mtraitlets\u001b[39m\u001b[39m (\u001b[39m\u001b[39;1m5.1.0\u001b[39;22m\u001b[39m)\u001b[39m: \u001b[34mInstalling...\u001b[39m\n",
            "  \u001b[34;1m•\u001b[39;22m \u001b[39mInstalling \u001b[39m\u001b[36mwcwidth\u001b[39m\u001b[39m (\u001b[39m\u001b[39;1m0.2.5\u001b[39;22m\u001b[39m)\u001b[39m: \u001b[34mInstalling...\u001b[39m\n",
            "\u001b[4A\u001b[0J  \u001b[32;1m•\u001b[39;22m \u001b[39mInstalling \u001b[39m\u001b[36msmmap\u001b[39m\u001b[39m (\u001b[39m\u001b[32m4.0.0\u001b[39m\u001b[39m)\u001b[39m\n",
            "  \u001b[34;1m•\u001b[39;22m \u001b[39mInstalling \u001b[39m\u001b[36mtraitlets\u001b[39m\u001b[39m (\u001b[39m\u001b[39;1m5.1.0\u001b[39;22m\u001b[39m)\u001b[39m: \u001b[34mInstalling...\u001b[39m\n",
            "  \u001b[34;1m•\u001b[39;22m \u001b[39mInstalling \u001b[39m\u001b[36mwcwidth\u001b[39m\u001b[39m (\u001b[39m\u001b[39;1m0.2.5\u001b[39;22m\u001b[39m)\u001b[39m: \u001b[34mInstalling...\u001b[39m\n",
            "\u001b[3A\u001b[0J  \u001b[32;1m•\u001b[39;22m \u001b[39mInstalling \u001b[39m\u001b[36mptyprocess\u001b[39m\u001b[39m (\u001b[39m\u001b[32m0.7.0\u001b[39m\u001b[39m)\u001b[39m\n",
            "  \u001b[32;1m•\u001b[39;22m \u001b[39mInstalling \u001b[39m\u001b[36msmmap\u001b[39m\u001b[39m (\u001b[39m\u001b[32m4.0.0\u001b[39m\u001b[39m)\u001b[39m\n",
            "  \u001b[34;1m•\u001b[39;22m \u001b[39mInstalling \u001b[39m\u001b[36mtraitlets\u001b[39m\u001b[39m (\u001b[39m\u001b[39;1m5.1.0\u001b[39;22m\u001b[39m)\u001b[39m: \u001b[34mInstalling...\u001b[39m\n",
            "  \u001b[34;1m•\u001b[39;22m \u001b[39mInstalling \u001b[39m\u001b[36mwcwidth\u001b[39m\u001b[39m (\u001b[39m\u001b[39;1m0.2.5\u001b[39;22m\u001b[39m)\u001b[39m: \u001b[34mInstalling...\u001b[39m\n",
            "\u001b[1A\u001b[0J  \u001b[32;1m•\u001b[39;22m \u001b[39mInstalling \u001b[39m\u001b[36mwcwidth\u001b[39m\u001b[39m (\u001b[39m\u001b[32m0.2.5\u001b[39m\u001b[39m)\u001b[39m\n",
            "\u001b[5A\u001b[0J  \u001b[32;1m•\u001b[39;22m \u001b[39mInstalling \u001b[39m\u001b[36mptyprocess\u001b[39m\u001b[39m (\u001b[39m\u001b[32m0.7.0\u001b[39m\u001b[39m)\u001b[39m\n",
            "  \u001b[32;1m•\u001b[39;22m \u001b[39mInstalling \u001b[39m\u001b[36msmmap\u001b[39m\u001b[39m (\u001b[39m\u001b[32m4.0.0\u001b[39m\u001b[39m)\u001b[39m\n",
            "  \u001b[34;1m•\u001b[39;22m \u001b[39mInstalling \u001b[39m\u001b[36mtraitlets\u001b[39m\u001b[39m (\u001b[39m\u001b[39;1m5.1.0\u001b[39;22m\u001b[39m)\u001b[39m: \u001b[34mInstalling...\u001b[39m\n",
            "  \u001b[32;1m•\u001b[39;22m \u001b[39mInstalling \u001b[39m\u001b[36mwcwidth\u001b[39m\u001b[39m (\u001b[39m\u001b[32m0.2.5\u001b[39m\u001b[39m)\u001b[39m\n",
            "\u001b[4A\u001b[0J  \u001b[32;1m•\u001b[39;22m \u001b[39mInstalling \u001b[39m\u001b[36mparso\u001b[39m\u001b[39m (\u001b[39m\u001b[32m0.8.2\u001b[39m\u001b[39m)\u001b[39m\n",
            "  \u001b[32;1m•\u001b[39;22m \u001b[39mInstalling \u001b[39m\u001b[36mptyprocess\u001b[39m\u001b[39m (\u001b[39m\u001b[32m0.7.0\u001b[39m\u001b[39m)\u001b[39m\n",
            "  \u001b[32;1m•\u001b[39;22m \u001b[39mInstalling \u001b[39m\u001b[36msmmap\u001b[39m\u001b[39m (\u001b[39m\u001b[32m4.0.0\u001b[39m\u001b[39m)\u001b[39m\n",
            "  \u001b[34;1m•\u001b[39;22m \u001b[39mInstalling \u001b[39m\u001b[36mtraitlets\u001b[39m\u001b[39m (\u001b[39m\u001b[39;1m5.1.0\u001b[39;22m\u001b[39m)\u001b[39m: \u001b[34mInstalling...\u001b[39m\n",
            "  \u001b[32;1m•\u001b[39;22m \u001b[39mInstalling \u001b[39m\u001b[36mwcwidth\u001b[39m\u001b[39m (\u001b[39m\u001b[32m0.2.5\u001b[39m\u001b[39m)\u001b[39m\n",
            "\u001b[2A\u001b[0J  \u001b[32;1m•\u001b[39;22m \u001b[39mInstalling \u001b[39m\u001b[36mwcwidth\u001b[39m\u001b[39m (\u001b[39m\u001b[32m0.2.5\u001b[39m\u001b[39m)\u001b[39m\n",
            "\u001b[1A\u001b[0J  \u001b[32;1m•\u001b[39;22m \u001b[39mInstalling \u001b[39m\u001b[36mtraitlets\u001b[39m\u001b[39m (\u001b[39m\u001b[32m5.1.0\u001b[39m\u001b[39m)\u001b[39m\n",
            "  \u001b[32;1m•\u001b[39;22m \u001b[39mInstalling \u001b[39m\u001b[36mwcwidth\u001b[39m\u001b[39m (\u001b[39m\u001b[32m0.2.5\u001b[39m\u001b[39m)\u001b[39m\n",
            "  \u001b[34;1m•\u001b[39;22m \u001b[39mInstalling \u001b[39m\u001b[36mantlr4-python3-runtime\u001b[39m\u001b[39m (\u001b[39m\u001b[39;1m4.8\u001b[39;22m\u001b[39m)\u001b[39m: \u001b[34mPending...\u001b[39m\n",
            "  \u001b[34;1m•\u001b[39;22m \u001b[39mInstalling \u001b[39m\u001b[36mbackcall\u001b[39m\u001b[39m (\u001b[39m\u001b[39;1m0.2.0\u001b[39;22m\u001b[39m)\u001b[39m: \u001b[34mPending...\u001b[39m\n",
            "  \u001b[34;1m•\u001b[39;22m \u001b[39mInstalling \u001b[39m\u001b[36mcertifi\u001b[39m\u001b[39m (\u001b[39m\u001b[39;1m2021.10.8\u001b[39;22m\u001b[39m)\u001b[39m: \u001b[34mPending...\u001b[39m\n",
            "  \u001b[34;1m•\u001b[39;22m \u001b[39mInstalling \u001b[39m\u001b[36mcharset-normalizer\u001b[39m\u001b[39m (\u001b[39m\u001b[39;1m2.0.7\u001b[39;22m\u001b[39m)\u001b[39m: \u001b[34mPending...\u001b[39m\n",
            "  \u001b[34;1m•\u001b[39;22m \u001b[39mInstalling \u001b[39m\u001b[36mdecorator\u001b[39m\u001b[39m (\u001b[39m\u001b[39;1m5.1.0\u001b[39;22m\u001b[39m)\u001b[39m: \u001b[34mPending...\u001b[39m\n",
            "  \u001b[34;1m•\u001b[39;22m \u001b[39mInstalling \u001b[39m\u001b[36mgitdb\u001b[39m\u001b[39m (\u001b[39m\u001b[39;1m4.0.7\u001b[39;22m\u001b[39m)\u001b[39m: \u001b[34mPending...\u001b[39m\n",
            "\u001b[5A\u001b[0J  \u001b[34;1m•\u001b[39;22m \u001b[39mInstalling \u001b[39m\u001b[36mcertifi\u001b[39m\u001b[39m (\u001b[39m\u001b[39;1m2021.10.8\u001b[39;22m\u001b[39m)\u001b[39m: \u001b[34mPending...\u001b[39m\n",
            "  \u001b[34;1m•\u001b[39;22m \u001b[39mInstalling \u001b[39m\u001b[36mcharset-normalizer\u001b[39m\u001b[39m (\u001b[39m\u001b[39;1m2.0.7\u001b[39;22m\u001b[39m)\u001b[39m: \u001b[34mPending...\u001b[39m\n",
            "  \u001b[34;1m•\u001b[39;22m \u001b[39mInstalling \u001b[39m\u001b[36mdecorator\u001b[39m\u001b[39m (\u001b[39m\u001b[39;1m5.1.0\u001b[39;22m\u001b[39m)\u001b[39m: \u001b[34mPending...\u001b[39m\n",
            "  \u001b[34;1m•\u001b[39;22m \u001b[39mInstalling \u001b[39m\u001b[36mgitdb\u001b[39m\u001b[39m (\u001b[39m\u001b[39;1m4.0.7\u001b[39;22m\u001b[39m)\u001b[39m: \u001b[34mPending...\u001b[39m\n",
            "\u001b[4A\u001b[0J  \u001b[34;1m•\u001b[39;22m \u001b[39mInstalling \u001b[39m\u001b[36mbackcall\u001b[39m\u001b[39m (\u001b[39m\u001b[39;1m0.2.0\u001b[39;22m\u001b[39m)\u001b[39m: \u001b[34mDownloading...\u001b[39m \u001b[39;1m0%\u001b[39;22m\n",
            "  \u001b[34;1m•\u001b[39;22m \u001b[39mInstalling \u001b[39m\u001b[36mcertifi\u001b[39m\u001b[39m (\u001b[39m\u001b[39;1m2021.10.8\u001b[39;22m\u001b[39m)\u001b[39m: \u001b[34mPending...\u001b[39m\n",
            "  \u001b[34;1m•\u001b[39;22m \u001b[39mInstalling \u001b[39m\u001b[36mcharset-normalizer\u001b[39m\u001b[39m (\u001b[39m\u001b[39;1m2.0.7\u001b[39;22m\u001b[39m)\u001b[39m: \u001b[34mPending...\u001b[39m\n",
            "  \u001b[34;1m•\u001b[39;22m \u001b[39mInstalling \u001b[39m\u001b[36mdecorator\u001b[39m\u001b[39m (\u001b[39m\u001b[39;1m5.1.0\u001b[39;22m\u001b[39m)\u001b[39m: \u001b[34mPending...\u001b[39m\n",
            "  \u001b[34;1m•\u001b[39;22m \u001b[39mInstalling \u001b[39m\u001b[36mgitdb\u001b[39m\u001b[39m (\u001b[39m\u001b[39;1m4.0.7\u001b[39;22m\u001b[39m)\u001b[39m: \u001b[34mPending...\u001b[39m\n",
            "\u001b[5A\u001b[0J  \u001b[34;1m•\u001b[39;22m \u001b[39mInstalling \u001b[39m\u001b[36mcertifi\u001b[39m\u001b[39m (\u001b[39m\u001b[39;1m2021.10.8\u001b[39;22m\u001b[39m)\u001b[39m: \u001b[34mPending...\u001b[39m\n",
            "  \u001b[34;1m•\u001b[39;22m \u001b[39mInstalling \u001b[39m\u001b[36mcharset-normalizer\u001b[39m\u001b[39m (\u001b[39m\u001b[39;1m2.0.7\u001b[39;22m\u001b[39m)\u001b[39m: \u001b[34mPending...\u001b[39m\n",
            "  \u001b[34;1m•\u001b[39;22m \u001b[39mInstalling \u001b[39m\u001b[36mdecorator\u001b[39m\u001b[39m (\u001b[39m\u001b[39;1m5.1.0\u001b[39;22m\u001b[39m)\u001b[39m: \u001b[34mPending...\u001b[39m\n",
            "  \u001b[34;1m•\u001b[39;22m \u001b[39mInstalling \u001b[39m\u001b[36mgitdb\u001b[39m\u001b[39m (\u001b[39m\u001b[39;1m4.0.7\u001b[39;22m\u001b[39m)\u001b[39m: \u001b[34mPending...\u001b[39m\n",
            "\u001b[4A\u001b[0J  \u001b[34;1m•\u001b[39;22m \u001b[39mInstalling \u001b[39m\u001b[36mbackcall\u001b[39m\u001b[39m (\u001b[39m\u001b[39;1m0.2.0\u001b[39;22m\u001b[39m)\u001b[39m: \u001b[34mDownloading...\u001b[39m \u001b[39;1m100%\u001b[39;22m\n",
            "  \u001b[34;1m•\u001b[39;22m \u001b[39mInstalling \u001b[39m\u001b[36mcertifi\u001b[39m\u001b[39m (\u001b[39m\u001b[39;1m2021.10.8\u001b[39;22m\u001b[39m)\u001b[39m: \u001b[34mPending...\u001b[39m\n",
            "  \u001b[34;1m•\u001b[39;22m \u001b[39mInstalling \u001b[39m\u001b[36mcharset-normalizer\u001b[39m\u001b[39m (\u001b[39m\u001b[39;1m2.0.7\u001b[39;22m\u001b[39m)\u001b[39m: \u001b[34mPending...\u001b[39m\n",
            "  \u001b[34;1m•\u001b[39;22m \u001b[39mInstalling \u001b[39m\u001b[36mdecorator\u001b[39m\u001b[39m (\u001b[39m\u001b[39;1m5.1.0\u001b[39;22m\u001b[39m)\u001b[39m: \u001b[34mPending...\u001b[39m\n",
            "  \u001b[34;1m•\u001b[39;22m \u001b[39mInstalling \u001b[39m\u001b[36mgitdb\u001b[39m\u001b[39m (\u001b[39m\u001b[39;1m4.0.7\u001b[39;22m\u001b[39m)\u001b[39m: \u001b[34mPending...\u001b[39m\n",
            "\u001b[5A\u001b[0J  \u001b[34;1m•\u001b[39;22m \u001b[39mInstalling \u001b[39m\u001b[36mcertifi\u001b[39m\u001b[39m (\u001b[39m\u001b[39;1m2021.10.8\u001b[39;22m\u001b[39m)\u001b[39m: \u001b[34mPending...\u001b[39m\n",
            "  \u001b[34;1m•\u001b[39;22m \u001b[39mInstalling \u001b[39m\u001b[36mcharset-normalizer\u001b[39m\u001b[39m (\u001b[39m\u001b[39;1m2.0.7\u001b[39;22m\u001b[39m)\u001b[39m: \u001b[34mPending...\u001b[39m\n",
            "  \u001b[34;1m•\u001b[39;22m \u001b[39mInstalling \u001b[39m\u001b[36mdecorator\u001b[39m\u001b[39m (\u001b[39m\u001b[39;1m5.1.0\u001b[39;22m\u001b[39m)\u001b[39m: \u001b[34mPending...\u001b[39m\n",
            "  \u001b[34;1m•\u001b[39;22m \u001b[39mInstalling \u001b[39m\u001b[36mgitdb\u001b[39m\u001b[39m (\u001b[39m\u001b[39;1m4.0.7\u001b[39;22m\u001b[39m)\u001b[39m: \u001b[34mPending...\u001b[39m\n",
            "\u001b[4A\u001b[0J  \u001b[34;1m•\u001b[39;22m \u001b[39mInstalling \u001b[39m\u001b[36mbackcall\u001b[39m\u001b[39m (\u001b[39m\u001b[39;1m0.2.0\u001b[39;22m\u001b[39m)\u001b[39m: \u001b[34mInstalling...\u001b[39m\n",
            "  \u001b[34;1m•\u001b[39;22m \u001b[39mInstalling \u001b[39m\u001b[36mcertifi\u001b[39m\u001b[39m (\u001b[39m\u001b[39;1m2021.10.8\u001b[39;22m\u001b[39m)\u001b[39m: \u001b[34mPending...\u001b[39m\n",
            "  \u001b[34;1m•\u001b[39;22m \u001b[39mInstalling \u001b[39m\u001b[36mcharset-normalizer\u001b[39m\u001b[39m (\u001b[39m\u001b[39;1m2.0.7\u001b[39;22m\u001b[39m)\u001b[39m: \u001b[34mPending...\u001b[39m\n",
            "  \u001b[34;1m•\u001b[39;22m \u001b[39mInstalling \u001b[39m\u001b[36mdecorator\u001b[39m\u001b[39m (\u001b[39m\u001b[39;1m5.1.0\u001b[39;22m\u001b[39m)\u001b[39m: \u001b[34mPending...\u001b[39m\n",
            "  \u001b[34;1m•\u001b[39;22m \u001b[39mInstalling \u001b[39m\u001b[36mgitdb\u001b[39m\u001b[39m (\u001b[39m\u001b[39;1m4.0.7\u001b[39;22m\u001b[39m)\u001b[39m: \u001b[34mPending...\u001b[39m\n",
            "\u001b[6A\u001b[0J  \u001b[34;1m•\u001b[39;22m \u001b[39mInstalling \u001b[39m\u001b[36mbackcall\u001b[39m\u001b[39m (\u001b[39m\u001b[39;1m0.2.0\u001b[39;22m\u001b[39m)\u001b[39m: \u001b[34mInstalling...\u001b[39m\n",
            "  \u001b[34;1m•\u001b[39;22m \u001b[39mInstalling \u001b[39m\u001b[36mcertifi\u001b[39m\u001b[39m (\u001b[39m\u001b[39;1m2021.10.8\u001b[39;22m\u001b[39m)\u001b[39m: \u001b[34mPending...\u001b[39m\n",
            "  \u001b[34;1m•\u001b[39;22m \u001b[39mInstalling \u001b[39m\u001b[36mcharset-normalizer\u001b[39m\u001b[39m (\u001b[39m\u001b[39;1m2.0.7\u001b[39;22m\u001b[39m)\u001b[39m: \u001b[34mPending...\u001b[39m\n",
            "  \u001b[34;1m•\u001b[39;22m \u001b[39mInstalling \u001b[39m\u001b[36mdecorator\u001b[39m\u001b[39m (\u001b[39m\u001b[39;1m5.1.0\u001b[39;22m\u001b[39m)\u001b[39m: \u001b[34mPending...\u001b[39m\n",
            "  \u001b[34;1m•\u001b[39;22m \u001b[39mInstalling \u001b[39m\u001b[36mgitdb\u001b[39m\u001b[39m (\u001b[39m\u001b[39;1m4.0.7\u001b[39;22m\u001b[39m)\u001b[39m: \u001b[34mPending...\u001b[39m\n",
            "\u001b[5A\u001b[0J  \u001b[34;1m•\u001b[39;22m \u001b[39mInstalling \u001b[39m\u001b[36mantlr4-python3-runtime\u001b[39m\u001b[39m (\u001b[39m\u001b[39;1m4.8\u001b[39;22m\u001b[39m)\u001b[39m: \u001b[34mDownloading...\u001b[39m \u001b[39;1m0%\u001b[39;22m\n",
            "  \u001b[34;1m•\u001b[39;22m \u001b[39mInstalling \u001b[39m\u001b[36mbackcall\u001b[39m\u001b[39m (\u001b[39m\u001b[39;1m0.2.0\u001b[39;22m\u001b[39m)\u001b[39m: \u001b[34mInstalling...\u001b[39m\n",
            "  \u001b[34;1m•\u001b[39;22m \u001b[39mInstalling \u001b[39m\u001b[36mcertifi\u001b[39m\u001b[39m (\u001b[39m\u001b[39;1m2021.10.8\u001b[39;22m\u001b[39m)\u001b[39m: \u001b[34mPending...\u001b[39m\n",
            "  \u001b[34;1m•\u001b[39;22m \u001b[39mInstalling \u001b[39m\u001b[36mcharset-normalizer\u001b[39m\u001b[39m (\u001b[39m\u001b[39;1m2.0.7\u001b[39;22m\u001b[39m)\u001b[39m: \u001b[34mPending...\u001b[39m\n",
            "  \u001b[34;1m•\u001b[39;22m \u001b[39mInstalling \u001b[39m\u001b[36mdecorator\u001b[39m\u001b[39m (\u001b[39m\u001b[39;1m5.1.0\u001b[39;22m\u001b[39m)\u001b[39m: \u001b[34mPending...\u001b[39m\n",
            "  \u001b[34;1m•\u001b[39;22m \u001b[39mInstalling \u001b[39m\u001b[36mgitdb\u001b[39m\u001b[39m (\u001b[39m\u001b[39;1m4.0.7\u001b[39;22m\u001b[39m)\u001b[39m: \u001b[34mPending...\u001b[39m\n",
            "\u001b[6A\u001b[0J  \u001b[34;1m•\u001b[39;22m \u001b[39mInstalling \u001b[39m\u001b[36mbackcall\u001b[39m\u001b[39m (\u001b[39m\u001b[39;1m0.2.0\u001b[39;22m\u001b[39m)\u001b[39m: \u001b[34mInstalling...\u001b[39m\n",
            "  \u001b[34;1m•\u001b[39;22m \u001b[39mInstalling \u001b[39m\u001b[36mcertifi\u001b[39m\u001b[39m (\u001b[39m\u001b[39;1m2021.10.8\u001b[39;22m\u001b[39m)\u001b[39m: \u001b[34mPending...\u001b[39m\n",
            "  \u001b[34;1m•\u001b[39;22m \u001b[39mInstalling \u001b[39m\u001b[36mcharset-normalizer\u001b[39m\u001b[39m (\u001b[39m\u001b[39;1m2.0.7\u001b[39;22m\u001b[39m)\u001b[39m: \u001b[34mPending...\u001b[39m\n",
            "  \u001b[34;1m•\u001b[39;22m \u001b[39mInstalling \u001b[39m\u001b[36mdecorator\u001b[39m\u001b[39m (\u001b[39m\u001b[39;1m5.1.0\u001b[39;22m\u001b[39m)\u001b[39m: \u001b[34mPending...\u001b[39m\n",
            "  \u001b[34;1m•\u001b[39;22m \u001b[39mInstalling \u001b[39m\u001b[36mgitdb\u001b[39m\u001b[39m (\u001b[39m\u001b[39;1m4.0.7\u001b[39;22m\u001b[39m)\u001b[39m: \u001b[34mPending...\u001b[39m\n",
            "\u001b[5A\u001b[0J  \u001b[34;1m•\u001b[39;22m \u001b[39mInstalling \u001b[39m\u001b[36mantlr4-python3-runtime\u001b[39m\u001b[39m (\u001b[39m\u001b[39;1m4.8\u001b[39;22m\u001b[39m)\u001b[39m: \u001b[34mDownloading...\u001b[39m \u001b[39;1m100%\u001b[39;22m\n",
            "  \u001b[34;1m•\u001b[39;22m \u001b[39mInstalling \u001b[39m\u001b[36mbackcall\u001b[39m\u001b[39m (\u001b[39m\u001b[39;1m0.2.0\u001b[39;22m\u001b[39m)\u001b[39m: \u001b[34mInstalling...\u001b[39m\n",
            "  \u001b[34;1m•\u001b[39;22m \u001b[39mInstalling \u001b[39m\u001b[36mcertifi\u001b[39m\u001b[39m (\u001b[39m\u001b[39;1m2021.10.8\u001b[39;22m\u001b[39m)\u001b[39m: \u001b[34mPending...\u001b[39m\n",
            "  \u001b[34;1m•\u001b[39;22m \u001b[39mInstalling \u001b[39m\u001b[36mcharset-normalizer\u001b[39m\u001b[39m (\u001b[39m\u001b[39;1m2.0.7\u001b[39;22m\u001b[39m)\u001b[39m: \u001b[34mPending...\u001b[39m\n",
            "  \u001b[34;1m•\u001b[39;22m \u001b[39mInstalling \u001b[39m\u001b[36mdecorator\u001b[39m\u001b[39m (\u001b[39m\u001b[39;1m5.1.0\u001b[39;22m\u001b[39m)\u001b[39m: \u001b[34mPending...\u001b[39m\n",
            "  \u001b[34;1m•\u001b[39;22m \u001b[39mInstalling \u001b[39m\u001b[36mgitdb\u001b[39m\u001b[39m (\u001b[39m\u001b[39;1m4.0.7\u001b[39;22m\u001b[39m)\u001b[39m: \u001b[34mPending...\u001b[39m\n",
            "\u001b[6A\u001b[0J  \u001b[34;1m•\u001b[39;22m \u001b[39mInstalling \u001b[39m\u001b[36mbackcall\u001b[39m\u001b[39m (\u001b[39m\u001b[39;1m0.2.0\u001b[39;22m\u001b[39m)\u001b[39m: \u001b[34mInstalling...\u001b[39m\n",
            "  \u001b[34;1m•\u001b[39;22m \u001b[39mInstalling \u001b[39m\u001b[36mcertifi\u001b[39m\u001b[39m (\u001b[39m\u001b[39;1m2021.10.8\u001b[39;22m\u001b[39m)\u001b[39m: \u001b[34mPending...\u001b[39m\n",
            "  \u001b[34;1m•\u001b[39;22m \u001b[39mInstalling \u001b[39m\u001b[36mcharset-normalizer\u001b[39m\u001b[39m (\u001b[39m\u001b[39;1m2.0.7\u001b[39;22m\u001b[39m)\u001b[39m: \u001b[34mPending...\u001b[39m\n",
            "  \u001b[34;1m•\u001b[39;22m \u001b[39mInstalling \u001b[39m\u001b[36mdecorator\u001b[39m\u001b[39m (\u001b[39m\u001b[39;1m5.1.0\u001b[39;22m\u001b[39m)\u001b[39m: \u001b[34mPending...\u001b[39m\n",
            "  \u001b[34;1m•\u001b[39;22m \u001b[39mInstalling \u001b[39m\u001b[36mgitdb\u001b[39m\u001b[39m (\u001b[39m\u001b[39;1m4.0.7\u001b[39;22m\u001b[39m)\u001b[39m: \u001b[34mPending...\u001b[39m\n",
            "\u001b[5A\u001b[0J  \u001b[34;1m•\u001b[39;22m \u001b[39mInstalling \u001b[39m\u001b[36mantlr4-python3-runtime\u001b[39m\u001b[39m (\u001b[39m\u001b[39;1m4.8\u001b[39;22m\u001b[39m)\u001b[39m: \u001b[34mInstalling...\u001b[39m\n",
            "  \u001b[34;1m•\u001b[39;22m \u001b[39mInstalling \u001b[39m\u001b[36mbackcall\u001b[39m\u001b[39m (\u001b[39m\u001b[39;1m0.2.0\u001b[39;22m\u001b[39m)\u001b[39m: \u001b[34mInstalling...\u001b[39m\n",
            "  \u001b[34;1m•\u001b[39;22m \u001b[39mInstalling \u001b[39m\u001b[36mcertifi\u001b[39m\u001b[39m (\u001b[39m\u001b[39;1m2021.10.8\u001b[39;22m\u001b[39m)\u001b[39m: \u001b[34mPending...\u001b[39m\n",
            "  \u001b[34;1m•\u001b[39;22m \u001b[39mInstalling \u001b[39m\u001b[36mcharset-normalizer\u001b[39m\u001b[39m (\u001b[39m\u001b[39;1m2.0.7\u001b[39;22m\u001b[39m)\u001b[39m: \u001b[34mPending...\u001b[39m\n",
            "  \u001b[34;1m•\u001b[39;22m \u001b[39mInstalling \u001b[39m\u001b[36mdecorator\u001b[39m\u001b[39m (\u001b[39m\u001b[39;1m5.1.0\u001b[39;22m\u001b[39m)\u001b[39m: \u001b[34mPending...\u001b[39m\n",
            "  \u001b[34;1m•\u001b[39;22m \u001b[39mInstalling \u001b[39m\u001b[36mgitdb\u001b[39m\u001b[39m (\u001b[39m\u001b[39;1m4.0.7\u001b[39;22m\u001b[39m)\u001b[39m: \u001b[34mPending...\u001b[39m\n",
            "\u001b[2A\u001b[0J  \u001b[34;1m•\u001b[39;22m \u001b[39mInstalling \u001b[39m\u001b[36mgitdb\u001b[39m\u001b[39m (\u001b[39m\u001b[39;1m4.0.7\u001b[39;22m\u001b[39m)\u001b[39m: \u001b[34mPending...\u001b[39m\n",
            "\u001b[1A\u001b[0J  \u001b[34;1m•\u001b[39;22m \u001b[39mInstalling \u001b[39m\u001b[36mdecorator\u001b[39m\u001b[39m (\u001b[39m\u001b[39;1m5.1.0\u001b[39;22m\u001b[39m)\u001b[39m: \u001b[34mDownloading...\u001b[39m \u001b[39;1m0%\u001b[39;22m\n",
            "  \u001b[34;1m•\u001b[39;22m \u001b[39mInstalling \u001b[39m\u001b[36mgitdb\u001b[39m\u001b[39m (\u001b[39m\u001b[39;1m4.0.7\u001b[39;22m\u001b[39m)\u001b[39m: \u001b[34mPending...\u001b[39m\n",
            "\u001b[4A\u001b[0J  \u001b[34;1m•\u001b[39;22m \u001b[39mInstalling \u001b[39m\u001b[36mcharset-normalizer\u001b[39m\u001b[39m (\u001b[39m\u001b[39;1m2.0.7\u001b[39;22m\u001b[39m)\u001b[39m: \u001b[34mPending...\u001b[39m\n",
            "  \u001b[34;1m•\u001b[39;22m \u001b[39mInstalling \u001b[39m\u001b[36mdecorator\u001b[39m\u001b[39m (\u001b[39m\u001b[39;1m5.1.0\u001b[39;22m\u001b[39m)\u001b[39m: \u001b[34mDownloading...\u001b[39m \u001b[39;1m0%\u001b[39;22m\n",
            "  \u001b[34;1m•\u001b[39;22m \u001b[39mInstalling \u001b[39m\u001b[36mgitdb\u001b[39m\u001b[39m (\u001b[39m\u001b[39;1m4.0.7\u001b[39;22m\u001b[39m)\u001b[39m: \u001b[34mPending...\u001b[39m\n",
            "\u001b[3A\u001b[0J  \u001b[34;1m•\u001b[39;22m \u001b[39mInstalling \u001b[39m\u001b[36mcertifi\u001b[39m\u001b[39m (\u001b[39m\u001b[39;1m2021.10.8\u001b[39;22m\u001b[39m)\u001b[39m: \u001b[34mDownloading...\u001b[39m \u001b[39;1m0%\u001b[39;22m\n",
            "  \u001b[34;1m•\u001b[39;22m \u001b[39mInstalling \u001b[39m\u001b[36mcharset-normalizer\u001b[39m\u001b[39m (\u001b[39m\u001b[39;1m2.0.7\u001b[39;22m\u001b[39m)\u001b[39m: \u001b[34mPending...\u001b[39m\n",
            "  \u001b[34;1m•\u001b[39;22m \u001b[39mInstalling \u001b[39m\u001b[36mdecorator\u001b[39m\u001b[39m (\u001b[39m\u001b[39;1m5.1.0\u001b[39;22m\u001b[39m)\u001b[39m: \u001b[34mDownloading...\u001b[39m \u001b[39;1m0%\u001b[39;22m\n",
            "  \u001b[34;1m•\u001b[39;22m \u001b[39mInstalling \u001b[39m\u001b[36mgitdb\u001b[39m\u001b[39m (\u001b[39m\u001b[39;1m4.0.7\u001b[39;22m\u001b[39m)\u001b[39m: \u001b[34mPending...\u001b[39m\n",
            "\u001b[2A\u001b[0J  \u001b[34;1m•\u001b[39;22m \u001b[39mInstalling \u001b[39m\u001b[36mgitdb\u001b[39m\u001b[39m (\u001b[39m\u001b[39;1m4.0.7\u001b[39;22m\u001b[39m)\u001b[39m: \u001b[34mPending...\u001b[39m\n",
            "\u001b[1A\u001b[0J  \u001b[34;1m•\u001b[39;22m \u001b[39mInstalling \u001b[39m\u001b[36mdecorator\u001b[39m\u001b[39m (\u001b[39m\u001b[39;1m5.1.0\u001b[39;22m\u001b[39m)\u001b[39m: \u001b[34mDownloading...\u001b[39m \u001b[39;1m100%\u001b[39;22m\n",
            "  \u001b[34;1m•\u001b[39;22m \u001b[39mInstalling \u001b[39m\u001b[36mgitdb\u001b[39m\u001b[39m (\u001b[39m\u001b[39;1m4.0.7\u001b[39;22m\u001b[39m)\u001b[39m: \u001b[34mPending...\u001b[39m\n",
            "\u001b[2A\u001b[0J  \u001b[34;1m•\u001b[39;22m \u001b[39mInstalling \u001b[39m\u001b[36mgitdb\u001b[39m\u001b[39m (\u001b[39m\u001b[39;1m4.0.7\u001b[39;22m\u001b[39m)\u001b[39m: \u001b[34mPending...\u001b[39m\n",
            "\u001b[1A\u001b[0J  \u001b[34;1m•\u001b[39;22m \u001b[39mInstalling \u001b[39m\u001b[36mdecorator\u001b[39m\u001b[39m (\u001b[39m\u001b[39;1m5.1.0\u001b[39;22m\u001b[39m)\u001b[39m: \u001b[34mInstalling...\u001b[39m\n",
            "  \u001b[34;1m•\u001b[39;22m \u001b[39mInstalling \u001b[39m\u001b[36mgitdb\u001b[39m\u001b[39m (\u001b[39m\u001b[39;1m4.0.7\u001b[39;22m\u001b[39m)\u001b[39m: \u001b[34mPending...\u001b[39m\n",
            "\u001b[1A\u001b[0J  \u001b[34;1m•\u001b[39;22m \u001b[39mInstalling \u001b[39m\u001b[36mgitdb\u001b[39m\u001b[39m (\u001b[39m\u001b[39;1m4.0.7\u001b[39;22m\u001b[39m)\u001b[39m: \u001b[34mDownloading...\u001b[39m \u001b[39;1m0%\u001b[39;22m\n",
            "\u001b[4A\u001b[0J  \u001b[34;1m•\u001b[39;22m \u001b[39mInstalling \u001b[39m\u001b[36mcharset-normalizer\u001b[39m\u001b[39m (\u001b[39m\u001b[39;1m2.0.7\u001b[39;22m\u001b[39m)\u001b[39m: \u001b[34mPending...\u001b[39m\n",
            "  \u001b[34;1m•\u001b[39;22m \u001b[39mInstalling \u001b[39m\u001b[36mdecorator\u001b[39m\u001b[39m (\u001b[39m\u001b[39;1m5.1.0\u001b[39;22m\u001b[39m)\u001b[39m: \u001b[34mInstalling...\u001b[39m\n",
            "  \u001b[34;1m•\u001b[39;22m \u001b[39mInstalling \u001b[39m\u001b[36mgitdb\u001b[39m\u001b[39m (\u001b[39m\u001b[39;1m4.0.7\u001b[39;22m\u001b[39m)\u001b[39m: \u001b[34mDownloading...\u001b[39m \u001b[39;1m0%\u001b[39;22m\n",
            "\u001b[3A\u001b[0J  \u001b[34;1m•\u001b[39;22m \u001b[39mInstalling \u001b[39m\u001b[36mcertifi\u001b[39m\u001b[39m (\u001b[39m\u001b[39;1m2021.10.8\u001b[39;22m\u001b[39m)\u001b[39m: \u001b[34mDownloading...\u001b[39m \u001b[39;1m100%\u001b[39;22m\n",
            "  \u001b[34;1m•\u001b[39;22m \u001b[39mInstalling \u001b[39m\u001b[36mcharset-normalizer\u001b[39m\u001b[39m (\u001b[39m\u001b[39;1m2.0.7\u001b[39;22m\u001b[39m)\u001b[39m: \u001b[34mPending...\u001b[39m\n",
            "  \u001b[34;1m•\u001b[39;22m \u001b[39mInstalling \u001b[39m\u001b[36mdecorator\u001b[39m\u001b[39m (\u001b[39m\u001b[39;1m5.1.0\u001b[39;22m\u001b[39m)\u001b[39m: \u001b[34mInstalling...\u001b[39m\n",
            "  \u001b[34;1m•\u001b[39;22m \u001b[39mInstalling \u001b[39m\u001b[36mgitdb\u001b[39m\u001b[39m (\u001b[39m\u001b[39;1m4.0.7\u001b[39;22m\u001b[39m)\u001b[39m: \u001b[34mDownloading...\u001b[39m \u001b[39;1m0%\u001b[39;22m\n",
            "\u001b[4A\u001b[0J  \u001b[34;1m•\u001b[39;22m \u001b[39mInstalling \u001b[39m\u001b[36mcharset-normalizer\u001b[39m\u001b[39m (\u001b[39m\u001b[39;1m2.0.7\u001b[39;22m\u001b[39m)\u001b[39m: \u001b[34mPending...\u001b[39m\n",
            "  \u001b[34;1m•\u001b[39;22m \u001b[39mInstalling \u001b[39m\u001b[36mdecorator\u001b[39m\u001b[39m (\u001b[39m\u001b[39;1m5.1.0\u001b[39;22m\u001b[39m)\u001b[39m: \u001b[34mInstalling...\u001b[39m\n",
            "  \u001b[34;1m•\u001b[39;22m \u001b[39mInstalling \u001b[39m\u001b[36mgitdb\u001b[39m\u001b[39m (\u001b[39m\u001b[39;1m4.0.7\u001b[39;22m\u001b[39m)\u001b[39m: \u001b[34mDownloading...\u001b[39m \u001b[39;1m0%\u001b[39;22m\n",
            "\u001b[3A\u001b[0J  \u001b[34;1m•\u001b[39;22m \u001b[39mInstalling \u001b[39m\u001b[36mcertifi\u001b[39m\u001b[39m (\u001b[39m\u001b[39;1m2021.10.8\u001b[39;22m\u001b[39m)\u001b[39m: \u001b[34mInstalling...\u001b[39m\n",
            "  \u001b[34;1m•\u001b[39;22m \u001b[39mInstalling \u001b[39m\u001b[36mcharset-normalizer\u001b[39m\u001b[39m (\u001b[39m\u001b[39;1m2.0.7\u001b[39;22m\u001b[39m)\u001b[39m: \u001b[34mPending...\u001b[39m\n",
            "  \u001b[34;1m•\u001b[39;22m \u001b[39mInstalling \u001b[39m\u001b[36mdecorator\u001b[39m\u001b[39m (\u001b[39m\u001b[39;1m5.1.0\u001b[39;22m\u001b[39m)\u001b[39m: \u001b[34mInstalling...\u001b[39m\n",
            "  \u001b[34;1m•\u001b[39;22m \u001b[39mInstalling \u001b[39m\u001b[36mgitdb\u001b[39m\u001b[39m (\u001b[39m\u001b[39;1m4.0.7\u001b[39;22m\u001b[39m)\u001b[39m: \u001b[34mDownloading...\u001b[39m \u001b[39;1m0%\u001b[39;22m\n",
            "\u001b[3A\u001b[0J  \u001b[34;1m•\u001b[39;22m \u001b[39mInstalling \u001b[39m\u001b[36mdecorator\u001b[39m\u001b[39m (\u001b[39m\u001b[39;1m5.1.0\u001b[39;22m\u001b[39m)\u001b[39m: \u001b[34mInstalling...\u001b[39m\n",
            "  \u001b[34;1m•\u001b[39;22m \u001b[39mInstalling \u001b[39m\u001b[36mgitdb\u001b[39m\u001b[39m (\u001b[39m\u001b[39;1m4.0.7\u001b[39;22m\u001b[39m)\u001b[39m: \u001b[34mDownloading...\u001b[39m \u001b[39;1m0%\u001b[39;22m\n",
            "\u001b[2A\u001b[0J  \u001b[34;1m•\u001b[39;22m \u001b[39mInstalling \u001b[39m\u001b[36mcharset-normalizer\u001b[39m\u001b[39m (\u001b[39m\u001b[39;1m2.0.7\u001b[39;22m\u001b[39m)\u001b[39m: \u001b[34mDownloading...\u001b[39m \u001b[39;1m0%\u001b[39;22m\n",
            "  \u001b[34;1m•\u001b[39;22m \u001b[39mInstalling \u001b[39m\u001b[36mdecorator\u001b[39m\u001b[39m (\u001b[39m\u001b[39;1m5.1.0\u001b[39;22m\u001b[39m)\u001b[39m: \u001b[34mInstalling...\u001b[39m\n",
            "  \u001b[34;1m•\u001b[39;22m \u001b[39mInstalling \u001b[39m\u001b[36mgitdb\u001b[39m\u001b[39m (\u001b[39m\u001b[39;1m4.0.7\u001b[39;22m\u001b[39m)\u001b[39m: \u001b[34mDownloading...\u001b[39m \u001b[39;1m0%\u001b[39;22m\n",
            "\u001b[1A\u001b[0J  \u001b[34;1m•\u001b[39;22m \u001b[39mInstalling \u001b[39m\u001b[36mgitdb\u001b[39m\u001b[39m (\u001b[39m\u001b[39;1m4.0.7\u001b[39;22m\u001b[39m)\u001b[39m: \u001b[34mDownloading...\u001b[39m \u001b[39;1m100%\u001b[39;22m\n",
            "\u001b[3A\u001b[0J  \u001b[34;1m•\u001b[39;22m \u001b[39mInstalling \u001b[39m\u001b[36mdecorator\u001b[39m\u001b[39m (\u001b[39m\u001b[39;1m5.1.0\u001b[39;22m\u001b[39m)\u001b[39m: \u001b[34mInstalling...\u001b[39m\n",
            "  \u001b[34;1m•\u001b[39;22m \u001b[39mInstalling \u001b[39m\u001b[36mgitdb\u001b[39m\u001b[39m (\u001b[39m\u001b[39;1m4.0.7\u001b[39;22m\u001b[39m)\u001b[39m: \u001b[34mDownloading...\u001b[39m \u001b[39;1m100%\u001b[39;22m\n",
            "\u001b[2A\u001b[0J  \u001b[34;1m•\u001b[39;22m \u001b[39mInstalling \u001b[39m\u001b[36mcharset-normalizer\u001b[39m\u001b[39m (\u001b[39m\u001b[39;1m2.0.7\u001b[39;22m\u001b[39m)\u001b[39m: \u001b[34mDownloading...\u001b[39m \u001b[39;1m100%\u001b[39;22m\n",
            "  \u001b[34;1m•\u001b[39;22m \u001b[39mInstalling \u001b[39m\u001b[36mdecorator\u001b[39m\u001b[39m (\u001b[39m\u001b[39;1m5.1.0\u001b[39;22m\u001b[39m)\u001b[39m: \u001b[34mInstalling...\u001b[39m\n",
            "  \u001b[34;1m•\u001b[39;22m \u001b[39mInstalling \u001b[39m\u001b[36mgitdb\u001b[39m\u001b[39m (\u001b[39m\u001b[39;1m4.0.7\u001b[39;22m\u001b[39m)\u001b[39m: \u001b[34mDownloading...\u001b[39m \u001b[39;1m100%\u001b[39;22m\n",
            "\u001b[1A\u001b[0J  \u001b[34;1m•\u001b[39;22m \u001b[39mInstalling \u001b[39m\u001b[36mgitdb\u001b[39m\u001b[39m (\u001b[39m\u001b[39;1m4.0.7\u001b[39;22m\u001b[39m)\u001b[39m: \u001b[34mInstalling...\u001b[39m\n",
            "\u001b[3A\u001b[0J  \u001b[34;1m•\u001b[39;22m \u001b[39mInstalling \u001b[39m\u001b[36mdecorator\u001b[39m\u001b[39m (\u001b[39m\u001b[39;1m5.1.0\u001b[39;22m\u001b[39m)\u001b[39m: \u001b[34mInstalling...\u001b[39m\n",
            "  \u001b[34;1m•\u001b[39;22m \u001b[39mInstalling \u001b[39m\u001b[36mgitdb\u001b[39m\u001b[39m (\u001b[39m\u001b[39;1m4.0.7\u001b[39;22m\u001b[39m)\u001b[39m: \u001b[34mInstalling...\u001b[39m\n",
            "\u001b[2A\u001b[0J  \u001b[34;1m•\u001b[39;22m \u001b[39mInstalling \u001b[39m\u001b[36mcharset-normalizer\u001b[39m\u001b[39m (\u001b[39m\u001b[39;1m2.0.7\u001b[39;22m\u001b[39m)\u001b[39m: \u001b[34mInstalling...\u001b[39m\n",
            "  \u001b[34;1m•\u001b[39;22m \u001b[39mInstalling \u001b[39m\u001b[36mdecorator\u001b[39m\u001b[39m (\u001b[39m\u001b[39;1m5.1.0\u001b[39;22m\u001b[39m)\u001b[39m: \u001b[34mInstalling...\u001b[39m\n",
            "  \u001b[34;1m•\u001b[39;22m \u001b[39mInstalling \u001b[39m\u001b[36mgitdb\u001b[39m\u001b[39m (\u001b[39m\u001b[39;1m4.0.7\u001b[39;22m\u001b[39m)\u001b[39m: \u001b[34mInstalling...\u001b[39m\n",
            "\u001b[5A\u001b[0J  \u001b[34;1m•\u001b[39;22m \u001b[39mInstalling \u001b[39m\u001b[36mcertifi\u001b[39m\u001b[39m (\u001b[39m\u001b[39;1m2021.10.8\u001b[39;22m\u001b[39m)\u001b[39m: \u001b[34mInstalling...\u001b[39m\n",
            "  \u001b[34;1m•\u001b[39;22m \u001b[39mInstalling \u001b[39m\u001b[36mcharset-normalizer\u001b[39m\u001b[39m (\u001b[39m\u001b[39;1m2.0.7\u001b[39;22m\u001b[39m)\u001b[39m: \u001b[34mInstalling...\u001b[39m\n",
            "  \u001b[34;1m•\u001b[39;22m \u001b[39mInstalling \u001b[39m\u001b[36mdecorator\u001b[39m\u001b[39m (\u001b[39m\u001b[39;1m5.1.0\u001b[39;22m\u001b[39m)\u001b[39m: \u001b[34mInstalling...\u001b[39m\n",
            "  \u001b[34;1m•\u001b[39;22m \u001b[39mInstalling \u001b[39m\u001b[36mgitdb\u001b[39m\u001b[39m (\u001b[39m\u001b[39;1m4.0.7\u001b[39;22m\u001b[39m)\u001b[39m: \u001b[34mInstalling...\u001b[39m\n",
            "\u001b[4A\u001b[0J  \u001b[32;1m•\u001b[39;22m \u001b[39mInstalling \u001b[39m\u001b[36mbackcall\u001b[39m\u001b[39m (\u001b[39m\u001b[32m0.2.0\u001b[39m\u001b[39m)\u001b[39m\n",
            "  \u001b[34;1m•\u001b[39;22m \u001b[39mInstalling \u001b[39m\u001b[36mcertifi\u001b[39m\u001b[39m (\u001b[39m\u001b[39;1m2021.10.8\u001b[39;22m\u001b[39m)\u001b[39m: \u001b[34mInstalling...\u001b[39m\n",
            "  \u001b[34;1m•\u001b[39;22m \u001b[39mInstalling \u001b[39m\u001b[36mcharset-normalizer\u001b[39m\u001b[39m (\u001b[39m\u001b[39;1m2.0.7\u001b[39;22m\u001b[39m)\u001b[39m: \u001b[34mInstalling...\u001b[39m\n",
            "  \u001b[34;1m•\u001b[39;22m \u001b[39mInstalling \u001b[39m\u001b[36mdecorator\u001b[39m\u001b[39m (\u001b[39m\u001b[39;1m5.1.0\u001b[39;22m\u001b[39m)\u001b[39m: \u001b[34mInstalling...\u001b[39m\n",
            "  \u001b[34;1m•\u001b[39;22m \u001b[39mInstalling \u001b[39m\u001b[36mgitdb\u001b[39m\u001b[39m (\u001b[39m\u001b[39;1m4.0.7\u001b[39;22m\u001b[39m)\u001b[39m: \u001b[34mInstalling...\u001b[39m\n",
            "  \u001b[34;1m•\u001b[39;22m \u001b[39mInstalling \u001b[39m\u001b[36midna\u001b[39m\u001b[39m (\u001b[39m\u001b[39;1m3.3\u001b[39;22m\u001b[39m)\u001b[39m: \u001b[34mPending...\u001b[39m\n",
            "\u001b[1A\u001b[0J  \u001b[34;1m•\u001b[39;22m \u001b[39mInstalling \u001b[39m\u001b[36midna\u001b[39m\u001b[39m (\u001b[39m\u001b[39;1m3.3\u001b[39;22m\u001b[39m)\u001b[39m: \u001b[34mDownloading...\u001b[39m \u001b[39;1m0%\u001b[39;22m\n",
            "\u001b[1A\u001b[0J  \u001b[34;1m•\u001b[39;22m \u001b[39mInstalling \u001b[39m\u001b[36midna\u001b[39m\u001b[39m (\u001b[39m\u001b[39;1m3.3\u001b[39;22m\u001b[39m)\u001b[39m: \u001b[34mDownloading...\u001b[39m \u001b[39;1m100%\u001b[39;22m\n",
            "\u001b[1A\u001b[0J  \u001b[34;1m•\u001b[39;22m \u001b[39mInstalling \u001b[39m\u001b[36midna\u001b[39m\u001b[39m (\u001b[39m\u001b[39;1m3.3\u001b[39;22m\u001b[39m)\u001b[39m: \u001b[34mInstalling...\u001b[39m\n",
            "\u001b[5A\u001b[0J  \u001b[34;1m•\u001b[39;22m \u001b[39mInstalling \u001b[39m\u001b[36mcharset-normalizer\u001b[39m\u001b[39m (\u001b[39m\u001b[39;1m2.0.7\u001b[39;22m\u001b[39m)\u001b[39m: \u001b[34mInstalling...\u001b[39m\n",
            "  \u001b[34;1m•\u001b[39;22m \u001b[39mInstalling \u001b[39m\u001b[36mdecorator\u001b[39m\u001b[39m (\u001b[39m\u001b[39;1m5.1.0\u001b[39;22m\u001b[39m)\u001b[39m: \u001b[34mInstalling...\u001b[39m\n",
            "  \u001b[34;1m•\u001b[39;22m \u001b[39mInstalling \u001b[39m\u001b[36mgitdb\u001b[39m\u001b[39m (\u001b[39m\u001b[39;1m4.0.7\u001b[39;22m\u001b[39m)\u001b[39m: \u001b[34mInstalling...\u001b[39m\n",
            "  \u001b[34;1m•\u001b[39;22m \u001b[39mInstalling \u001b[39m\u001b[36midna\u001b[39m\u001b[39m (\u001b[39m\u001b[39;1m3.3\u001b[39;22m\u001b[39m)\u001b[39m: \u001b[34mInstalling...\u001b[39m\n",
            "\u001b[4A\u001b[0J  \u001b[32;1m•\u001b[39;22m \u001b[39mInstalling \u001b[39m\u001b[36mcertifi\u001b[39m\u001b[39m (\u001b[39m\u001b[32m2021.10.8\u001b[39m\u001b[39m)\u001b[39m\n",
            "  \u001b[34;1m•\u001b[39;22m \u001b[39mInstalling \u001b[39m\u001b[36mcharset-normalizer\u001b[39m\u001b[39m (\u001b[39m\u001b[39;1m2.0.7\u001b[39;22m\u001b[39m)\u001b[39m: \u001b[34mInstalling...\u001b[39m\n",
            "  \u001b[34;1m•\u001b[39;22m \u001b[39mInstalling \u001b[39m\u001b[36mdecorator\u001b[39m\u001b[39m (\u001b[39m\u001b[39;1m5.1.0\u001b[39;22m\u001b[39m)\u001b[39m: \u001b[34mInstalling...\u001b[39m\n",
            "  \u001b[34;1m•\u001b[39;22m \u001b[39mInstalling \u001b[39m\u001b[36mgitdb\u001b[39m\u001b[39m (\u001b[39m\u001b[39;1m4.0.7\u001b[39;22m\u001b[39m)\u001b[39m: \u001b[34mInstalling...\u001b[39m\n",
            "  \u001b[34;1m•\u001b[39;22m \u001b[39mInstalling \u001b[39m\u001b[36midna\u001b[39m\u001b[39m (\u001b[39m\u001b[39;1m3.3\u001b[39;22m\u001b[39m)\u001b[39m: \u001b[34mInstalling...\u001b[39m\n",
            "  \u001b[34;1m•\u001b[39;22m \u001b[39mInstalling \u001b[39m\u001b[36mjedi\u001b[39m\u001b[39m (\u001b[39m\u001b[39;1m0.18.0\u001b[39;22m\u001b[39m)\u001b[39m: \u001b[34mPending...\u001b[39m\n",
            "\u001b[1A\u001b[0J  \u001b[34;1m•\u001b[39;22m \u001b[39mInstalling \u001b[39m\u001b[36mjedi\u001b[39m\u001b[39m (\u001b[39m\u001b[39;1m0.18.0\u001b[39;22m\u001b[39m)\u001b[39m: \u001b[34mDownloading...\u001b[39m \u001b[39;1m0%\u001b[39;22m\n",
            "\u001b[1A\u001b[0J  \u001b[34;1m•\u001b[39;22m \u001b[39mInstalling \u001b[39m\u001b[36mjedi\u001b[39m\u001b[39m (\u001b[39m\u001b[39;1m0.18.0\u001b[39;22m\u001b[39m)\u001b[39m: \u001b[34mDownloading...\u001b[39m \u001b[39;1m100%\u001b[39;22m\n",
            "\u001b[1A\u001b[0J  \u001b[34;1m•\u001b[39;22m \u001b[39mInstalling \u001b[39m\u001b[36mjedi\u001b[39m\u001b[39m (\u001b[39m\u001b[39;1m0.18.0\u001b[39;22m\u001b[39m)\u001b[39m: \u001b[34mInstalling...\u001b[39m\n",
            "\u001b[5A\u001b[0J  \u001b[34;1m•\u001b[39;22m \u001b[39mInstalling \u001b[39m\u001b[36mdecorator\u001b[39m\u001b[39m (\u001b[39m\u001b[39;1m5.1.0\u001b[39;22m\u001b[39m)\u001b[39m: \u001b[34mInstalling...\u001b[39m\n",
            "  \u001b[34;1m•\u001b[39;22m \u001b[39mInstalling \u001b[39m\u001b[36mgitdb\u001b[39m\u001b[39m (\u001b[39m\u001b[39;1m4.0.7\u001b[39;22m\u001b[39m)\u001b[39m: \u001b[34mInstalling...\u001b[39m\n",
            "  \u001b[34;1m•\u001b[39;22m \u001b[39mInstalling \u001b[39m\u001b[36midna\u001b[39m\u001b[39m (\u001b[39m\u001b[39;1m3.3\u001b[39;22m\u001b[39m)\u001b[39m: \u001b[34mInstalling...\u001b[39m\n",
            "  \u001b[34;1m•\u001b[39;22m \u001b[39mInstalling \u001b[39m\u001b[36mjedi\u001b[39m\u001b[39m (\u001b[39m\u001b[39;1m0.18.0\u001b[39;22m\u001b[39m)\u001b[39m: \u001b[34mInstalling...\u001b[39m\n",
            "\u001b[4A\u001b[0J  \u001b[32;1m•\u001b[39;22m \u001b[39mInstalling \u001b[39m\u001b[36mcharset-normalizer\u001b[39m\u001b[39m (\u001b[39m\u001b[32m2.0.7\u001b[39m\u001b[39m)\u001b[39m\n",
            "  \u001b[34;1m•\u001b[39;22m \u001b[39mInstalling \u001b[39m\u001b[36mdecorator\u001b[39m\u001b[39m (\u001b[39m\u001b[39;1m5.1.0\u001b[39;22m\u001b[39m)\u001b[39m: \u001b[34mInstalling...\u001b[39m\n",
            "  \u001b[34;1m•\u001b[39;22m \u001b[39mInstalling \u001b[39m\u001b[36mgitdb\u001b[39m\u001b[39m (\u001b[39m\u001b[39;1m4.0.7\u001b[39;22m\u001b[39m)\u001b[39m: \u001b[34mInstalling...\u001b[39m\n",
            "  \u001b[34;1m•\u001b[39;22m \u001b[39mInstalling \u001b[39m\u001b[36midna\u001b[39m\u001b[39m (\u001b[39m\u001b[39;1m3.3\u001b[39;22m\u001b[39m)\u001b[39m: \u001b[34mInstalling...\u001b[39m\n",
            "  \u001b[34;1m•\u001b[39;22m \u001b[39mInstalling \u001b[39m\u001b[36mjedi\u001b[39m\u001b[39m (\u001b[39m\u001b[39;1m0.18.0\u001b[39;22m\u001b[39m)\u001b[39m: \u001b[34mInstalling...\u001b[39m\n",
            "  \u001b[34;1m•\u001b[39;22m \u001b[39mInstalling \u001b[39m\u001b[36mmatplotlib-inline\u001b[39m\u001b[39m (\u001b[39m\u001b[39;1m0.1.3\u001b[39;22m\u001b[39m)\u001b[39m: \u001b[34mPending...\u001b[39m\n",
            "\u001b[1A\u001b[0J  \u001b[34;1m•\u001b[39;22m \u001b[39mInstalling \u001b[39m\u001b[36mmatplotlib-inline\u001b[39m\u001b[39m (\u001b[39m\u001b[39;1m0.1.3\u001b[39;22m\u001b[39m)\u001b[39m: \u001b[34mDownloading...\u001b[39m \u001b[39;1m0%\u001b[39;22m\n",
            "\u001b[1A\u001b[0J  \u001b[34;1m•\u001b[39;22m \u001b[39mInstalling \u001b[39m\u001b[36mmatplotlib-inline\u001b[39m\u001b[39m (\u001b[39m\u001b[39;1m0.1.3\u001b[39;22m\u001b[39m)\u001b[39m: \u001b[34mDownloading...\u001b[39m \u001b[39;1m100%\u001b[39;22m\n",
            "\u001b[1A\u001b[0J  \u001b[34;1m•\u001b[39;22m \u001b[39mInstalling \u001b[39m\u001b[36mmatplotlib-inline\u001b[39m\u001b[39m (\u001b[39m\u001b[39;1m0.1.3\u001b[39;22m\u001b[39m)\u001b[39m: \u001b[34mInstalling...\u001b[39m\n",
            "\u001b[5A\u001b[0J  \u001b[34;1m•\u001b[39;22m \u001b[39mInstalling \u001b[39m\u001b[36mgitdb\u001b[39m\u001b[39m (\u001b[39m\u001b[39;1m4.0.7\u001b[39;22m\u001b[39m)\u001b[39m: \u001b[34mInstalling...\u001b[39m\n",
            "  \u001b[34;1m•\u001b[39;22m \u001b[39mInstalling \u001b[39m\u001b[36midna\u001b[39m\u001b[39m (\u001b[39m\u001b[39;1m3.3\u001b[39;22m\u001b[39m)\u001b[39m: \u001b[34mInstalling...\u001b[39m\n",
            "  \u001b[34;1m•\u001b[39;22m \u001b[39mInstalling \u001b[39m\u001b[36mjedi\u001b[39m\u001b[39m (\u001b[39m\u001b[39;1m0.18.0\u001b[39;22m\u001b[39m)\u001b[39m: \u001b[34mInstalling...\u001b[39m\n",
            "  \u001b[34;1m•\u001b[39;22m \u001b[39mInstalling \u001b[39m\u001b[36mmatplotlib-inline\u001b[39m\u001b[39m (\u001b[39m\u001b[39;1m0.1.3\u001b[39;22m\u001b[39m)\u001b[39m: \u001b[34mInstalling...\u001b[39m\n",
            "\u001b[4A\u001b[0J  \u001b[32;1m•\u001b[39;22m \u001b[39mInstalling \u001b[39m\u001b[36mdecorator\u001b[39m\u001b[39m (\u001b[39m\u001b[32m5.1.0\u001b[39m\u001b[39m)\u001b[39m\n",
            "  \u001b[34;1m•\u001b[39;22m \u001b[39mInstalling \u001b[39m\u001b[36mgitdb\u001b[39m\u001b[39m (\u001b[39m\u001b[39;1m4.0.7\u001b[39;22m\u001b[39m)\u001b[39m: \u001b[34mInstalling...\u001b[39m\n",
            "  \u001b[34;1m•\u001b[39;22m \u001b[39mInstalling \u001b[39m\u001b[36midna\u001b[39m\u001b[39m (\u001b[39m\u001b[39;1m3.3\u001b[39;22m\u001b[39m)\u001b[39m: \u001b[34mInstalling...\u001b[39m\n",
            "  \u001b[34;1m•\u001b[39;22m \u001b[39mInstalling \u001b[39m\u001b[36mjedi\u001b[39m\u001b[39m (\u001b[39m\u001b[39;1m0.18.0\u001b[39;22m\u001b[39m)\u001b[39m: \u001b[34mInstalling...\u001b[39m\n",
            "  \u001b[34;1m•\u001b[39;22m \u001b[39mInstalling \u001b[39m\u001b[36mmatplotlib-inline\u001b[39m\u001b[39m (\u001b[39m\u001b[39;1m0.1.3\u001b[39;22m\u001b[39m)\u001b[39m: \u001b[34mInstalling...\u001b[39m\n",
            "  \u001b[34;1m•\u001b[39;22m \u001b[39mInstalling \u001b[39m\u001b[36mpexpect\u001b[39m\u001b[39m (\u001b[39m\u001b[39;1m4.8.0\u001b[39;22m\u001b[39m)\u001b[39m: \u001b[34mPending...\u001b[39m\n",
            "\u001b[1A\u001b[0J  \u001b[34;1m•\u001b[39;22m \u001b[39mInstalling \u001b[39m\u001b[36mpexpect\u001b[39m\u001b[39m (\u001b[39m\u001b[39;1m4.8.0\u001b[39;22m\u001b[39m)\u001b[39m: \u001b[34mDownloading...\u001b[39m \u001b[39;1m0%\u001b[39;22m\n",
            "\u001b[1A\u001b[0J  \u001b[34;1m•\u001b[39;22m \u001b[39mInstalling \u001b[39m\u001b[36mpexpect\u001b[39m\u001b[39m (\u001b[39m\u001b[39;1m4.8.0\u001b[39;22m\u001b[39m)\u001b[39m: \u001b[34mDownloading...\u001b[39m \u001b[39;1m100%\u001b[39;22m\n",
            "\u001b[1A\u001b[0J  \u001b[34;1m•\u001b[39;22m \u001b[39mInstalling \u001b[39m\u001b[36mpexpect\u001b[39m\u001b[39m (\u001b[39m\u001b[39;1m4.8.0\u001b[39;22m\u001b[39m)\u001b[39m: \u001b[34mInstalling...\u001b[39m\n",
            "\u001b[5A\u001b[0J  \u001b[34;1m•\u001b[39;22m \u001b[39mInstalling \u001b[39m\u001b[36midna\u001b[39m\u001b[39m (\u001b[39m\u001b[39;1m3.3\u001b[39;22m\u001b[39m)\u001b[39m: \u001b[34mInstalling...\u001b[39m\n",
            "  \u001b[34;1m•\u001b[39;22m \u001b[39mInstalling \u001b[39m\u001b[36mjedi\u001b[39m\u001b[39m (\u001b[39m\u001b[39;1m0.18.0\u001b[39;22m\u001b[39m)\u001b[39m: \u001b[34mInstalling...\u001b[39m\n",
            "  \u001b[34;1m•\u001b[39;22m \u001b[39mInstalling \u001b[39m\u001b[36mmatplotlib-inline\u001b[39m\u001b[39m (\u001b[39m\u001b[39;1m0.1.3\u001b[39;22m\u001b[39m)\u001b[39m: \u001b[34mInstalling...\u001b[39m\n",
            "  \u001b[34;1m•\u001b[39;22m \u001b[39mInstalling \u001b[39m\u001b[36mpexpect\u001b[39m\u001b[39m (\u001b[39m\u001b[39;1m4.8.0\u001b[39;22m\u001b[39m)\u001b[39m: \u001b[34mInstalling...\u001b[39m\n",
            "\u001b[4A\u001b[0J  \u001b[32;1m•\u001b[39;22m \u001b[39mInstalling \u001b[39m\u001b[36mgitdb\u001b[39m\u001b[39m (\u001b[39m\u001b[32m4.0.7\u001b[39m\u001b[39m)\u001b[39m\n",
            "  \u001b[34;1m•\u001b[39;22m \u001b[39mInstalling \u001b[39m\u001b[36midna\u001b[39m\u001b[39m (\u001b[39m\u001b[39;1m3.3\u001b[39;22m\u001b[39m)\u001b[39m: \u001b[34mInstalling...\u001b[39m\n",
            "  \u001b[34;1m•\u001b[39;22m \u001b[39mInstalling \u001b[39m\u001b[36mjedi\u001b[39m\u001b[39m (\u001b[39m\u001b[39;1m0.18.0\u001b[39;22m\u001b[39m)\u001b[39m: \u001b[34mInstalling...\u001b[39m\n",
            "  \u001b[34;1m•\u001b[39;22m \u001b[39mInstalling \u001b[39m\u001b[36mmatplotlib-inline\u001b[39m\u001b[39m (\u001b[39m\u001b[39;1m0.1.3\u001b[39;22m\u001b[39m)\u001b[39m: \u001b[34mInstalling...\u001b[39m\n",
            "  \u001b[34;1m•\u001b[39;22m \u001b[39mInstalling \u001b[39m\u001b[36mpexpect\u001b[39m\u001b[39m (\u001b[39m\u001b[39;1m4.8.0\u001b[39;22m\u001b[39m)\u001b[39m: \u001b[34mInstalling...\u001b[39m\n",
            "  \u001b[34;1m•\u001b[39;22m \u001b[39mInstalling \u001b[39m\u001b[36mpickleshare\u001b[39m\u001b[39m (\u001b[39m\u001b[39;1m0.7.5\u001b[39;22m\u001b[39m)\u001b[39m: \u001b[34mPending...\u001b[39m\n",
            "\u001b[1A\u001b[0J  \u001b[34;1m•\u001b[39;22m \u001b[39mInstalling \u001b[39m\u001b[36mpickleshare\u001b[39m\u001b[39m (\u001b[39m\u001b[39;1m0.7.5\u001b[39;22m\u001b[39m)\u001b[39m: \u001b[34mDownloading...\u001b[39m \u001b[39;1m0%\u001b[39;22m\n",
            "\u001b[1A\u001b[0J  \u001b[34;1m•\u001b[39;22m \u001b[39mInstalling \u001b[39m\u001b[36mpickleshare\u001b[39m\u001b[39m (\u001b[39m\u001b[39;1m0.7.5\u001b[39;22m\u001b[39m)\u001b[39m: \u001b[34mDownloading...\u001b[39m \u001b[39;1m100%\u001b[39;22m\n",
            "\u001b[1A\u001b[0J  \u001b[34;1m•\u001b[39;22m \u001b[39mInstalling \u001b[39m\u001b[36mpickleshare\u001b[39m\u001b[39m (\u001b[39m\u001b[39;1m0.7.5\u001b[39;22m\u001b[39m)\u001b[39m: \u001b[34mInstalling...\u001b[39m\n",
            "\u001b[5A\u001b[0J  \u001b[34;1m•\u001b[39;22m \u001b[39mInstalling \u001b[39m\u001b[36mjedi\u001b[39m\u001b[39m (\u001b[39m\u001b[39;1m0.18.0\u001b[39;22m\u001b[39m)\u001b[39m: \u001b[34mInstalling...\u001b[39m\n",
            "  \u001b[34;1m•\u001b[39;22m \u001b[39mInstalling \u001b[39m\u001b[36mmatplotlib-inline\u001b[39m\u001b[39m (\u001b[39m\u001b[39;1m0.1.3\u001b[39;22m\u001b[39m)\u001b[39m: \u001b[34mInstalling...\u001b[39m\n",
            "  \u001b[34;1m•\u001b[39;22m \u001b[39mInstalling \u001b[39m\u001b[36mpexpect\u001b[39m\u001b[39m (\u001b[39m\u001b[39;1m4.8.0\u001b[39;22m\u001b[39m)\u001b[39m: \u001b[34mInstalling...\u001b[39m\n",
            "  \u001b[34;1m•\u001b[39;22m \u001b[39mInstalling \u001b[39m\u001b[36mpickleshare\u001b[39m\u001b[39m (\u001b[39m\u001b[39;1m0.7.5\u001b[39;22m\u001b[39m)\u001b[39m: \u001b[34mInstalling...\u001b[39m\n",
            "\u001b[4A\u001b[0J  \u001b[32;1m•\u001b[39;22m \u001b[39mInstalling \u001b[39m\u001b[36midna\u001b[39m\u001b[39m (\u001b[39m\u001b[32m3.3\u001b[39m\u001b[39m)\u001b[39m\n",
            "  \u001b[34;1m•\u001b[39;22m \u001b[39mInstalling \u001b[39m\u001b[36mjedi\u001b[39m\u001b[39m (\u001b[39m\u001b[39;1m0.18.0\u001b[39;22m\u001b[39m)\u001b[39m: \u001b[34mInstalling...\u001b[39m\n",
            "  \u001b[34;1m•\u001b[39;22m \u001b[39mInstalling \u001b[39m\u001b[36mmatplotlib-inline\u001b[39m\u001b[39m (\u001b[39m\u001b[39;1m0.1.3\u001b[39;22m\u001b[39m)\u001b[39m: \u001b[34mInstalling...\u001b[39m\n",
            "  \u001b[34;1m•\u001b[39;22m \u001b[39mInstalling \u001b[39m\u001b[36mpexpect\u001b[39m\u001b[39m (\u001b[39m\u001b[39;1m4.8.0\u001b[39;22m\u001b[39m)\u001b[39m: \u001b[34mInstalling...\u001b[39m\n",
            "  \u001b[34;1m•\u001b[39;22m \u001b[39mInstalling \u001b[39m\u001b[36mpickleshare\u001b[39m\u001b[39m (\u001b[39m\u001b[39;1m0.7.5\u001b[39;22m\u001b[39m)\u001b[39m: \u001b[34mInstalling...\u001b[39m\n",
            "  \u001b[34;1m•\u001b[39;22m \u001b[39mInstalling \u001b[39m\u001b[36mprompt-toolkit\u001b[39m\u001b[39m (\u001b[39m\u001b[39;1m3.0.20\u001b[39;22m\u001b[39m)\u001b[39m: \u001b[34mPending...\u001b[39m\n",
            "\u001b[2A\u001b[0J  \u001b[34;1m•\u001b[39;22m \u001b[39mInstalling \u001b[39m\u001b[36mprompt-toolkit\u001b[39m\u001b[39m (\u001b[39m\u001b[39;1m3.0.20\u001b[39;22m\u001b[39m)\u001b[39m: \u001b[34mPending...\u001b[39m\n",
            "\u001b[1A\u001b[0J  \u001b[32;1m•\u001b[39;22m \u001b[39mInstalling \u001b[39m\u001b[36mpickleshare\u001b[39m\u001b[39m (\u001b[39m\u001b[32m0.7.5\u001b[39m\u001b[39m)\u001b[39m\n",
            "  \u001b[34;1m•\u001b[39;22m \u001b[39mInstalling \u001b[39m\u001b[36mprompt-toolkit\u001b[39m\u001b[39m (\u001b[39m\u001b[39;1m3.0.20\u001b[39;22m\u001b[39m)\u001b[39m: \u001b[34mPending...\u001b[39m\n",
            "  \u001b[34;1m•\u001b[39;22m \u001b[39mInstalling \u001b[39m\u001b[36mpycparser\u001b[39m\u001b[39m (\u001b[39m\u001b[39;1m2.20\u001b[39;22m\u001b[39m)\u001b[39m: \u001b[34mPending...\u001b[39m\n",
            "\u001b[2A\u001b[0J  \u001b[34;1m•\u001b[39;22m \u001b[39mInstalling \u001b[39m\u001b[36mpycparser\u001b[39m\u001b[39m (\u001b[39m\u001b[39;1m2.20\u001b[39;22m\u001b[39m)\u001b[39m: \u001b[34mPending...\u001b[39m\n",
            "\u001b[1A\u001b[0J  \u001b[34;1m•\u001b[39;22m \u001b[39mInstalling \u001b[39m\u001b[36mprompt-toolkit\u001b[39m\u001b[39m (\u001b[39m\u001b[39;1m3.0.20\u001b[39;22m\u001b[39m)\u001b[39m: \u001b[34mDownloading...\u001b[39m \u001b[39;1m0%\u001b[39;22m\n",
            "  \u001b[34;1m•\u001b[39;22m \u001b[39mInstalling \u001b[39m\u001b[36mpycparser\u001b[39m\u001b[39m (\u001b[39m\u001b[39;1m2.20\u001b[39;22m\u001b[39m)\u001b[39m: \u001b[34mPending...\u001b[39m\n",
            "\u001b[2A\u001b[0J  \u001b[34;1m•\u001b[39;22m \u001b[39mInstalling \u001b[39m\u001b[36mpycparser\u001b[39m\u001b[39m (\u001b[39m\u001b[39;1m2.20\u001b[39;22m\u001b[39m)\u001b[39m: \u001b[34mPending...\u001b[39m\n",
            "\u001b[1A\u001b[0J  \u001b[34;1m•\u001b[39;22m \u001b[39mInstalling \u001b[39m\u001b[36mprompt-toolkit\u001b[39m\u001b[39m (\u001b[39m\u001b[39;1m3.0.20\u001b[39;22m\u001b[39m)\u001b[39m: \u001b[34mDownloading...\u001b[39m \u001b[39;1m100%\u001b[39;22m\n",
            "  \u001b[34;1m•\u001b[39;22m \u001b[39mInstalling \u001b[39m\u001b[36mpycparser\u001b[39m\u001b[39m (\u001b[39m\u001b[39;1m2.20\u001b[39;22m\u001b[39m)\u001b[39m: \u001b[34mPending...\u001b[39m\n",
            "\u001b[2A\u001b[0J  \u001b[34;1m•\u001b[39;22m \u001b[39mInstalling \u001b[39m\u001b[36mpycparser\u001b[39m\u001b[39m (\u001b[39m\u001b[39;1m2.20\u001b[39;22m\u001b[39m)\u001b[39m: \u001b[34mPending...\u001b[39m\n",
            "\u001b[1A\u001b[0J  \u001b[34;1m•\u001b[39;22m \u001b[39mInstalling \u001b[39m\u001b[36mprompt-toolkit\u001b[39m\u001b[39m (\u001b[39m\u001b[39;1m3.0.20\u001b[39;22m\u001b[39m)\u001b[39m: \u001b[34mInstalling...\u001b[39m\n",
            "  \u001b[34;1m•\u001b[39;22m \u001b[39mInstalling \u001b[39m\u001b[36mpycparser\u001b[39m\u001b[39m (\u001b[39m\u001b[39;1m2.20\u001b[39;22m\u001b[39m)\u001b[39m: \u001b[34mPending...\u001b[39m\n",
            "\u001b[1A\u001b[0J  \u001b[34;1m•\u001b[39;22m \u001b[39mInstalling \u001b[39m\u001b[36mpycparser\u001b[39m\u001b[39m (\u001b[39m\u001b[39;1m2.20\u001b[39;22m\u001b[39m)\u001b[39m: \u001b[34mDownloading...\u001b[39m \u001b[39;1m0%\u001b[39;22m\n",
            "\u001b[1A\u001b[0J  \u001b[34;1m•\u001b[39;22m \u001b[39mInstalling \u001b[39m\u001b[36mpycparser\u001b[39m\u001b[39m (\u001b[39m\u001b[39;1m2.20\u001b[39;22m\u001b[39m)\u001b[39m: \u001b[34mDownloading...\u001b[39m \u001b[39;1m100%\u001b[39;22m\n",
            "\u001b[1A\u001b[0J  \u001b[34;1m•\u001b[39;22m \u001b[39mInstalling \u001b[39m\u001b[36mpycparser\u001b[39m\u001b[39m (\u001b[39m\u001b[39;1m2.20\u001b[39;22m\u001b[39m)\u001b[39m: \u001b[34mInstalling...\u001b[39m\n",
            "\u001b[5A\u001b[0J  \u001b[34;1m•\u001b[39;22m \u001b[39mInstalling \u001b[39m\u001b[36mpexpect\u001b[39m\u001b[39m (\u001b[39m\u001b[39;1m4.8.0\u001b[39;22m\u001b[39m)\u001b[39m: \u001b[34mInstalling...\u001b[39m\n",
            "  \u001b[32;1m•\u001b[39;22m \u001b[39mInstalling \u001b[39m\u001b[36mpickleshare\u001b[39m\u001b[39m (\u001b[39m\u001b[32m0.7.5\u001b[39m\u001b[39m)\u001b[39m\n",
            "  \u001b[34;1m•\u001b[39;22m \u001b[39mInstalling \u001b[39m\u001b[36mprompt-toolkit\u001b[39m\u001b[39m (\u001b[39m\u001b[39;1m3.0.20\u001b[39;22m\u001b[39m)\u001b[39m: \u001b[34mInstalling...\u001b[39m\n",
            "  \u001b[34;1m•\u001b[39;22m \u001b[39mInstalling \u001b[39m\u001b[36mpycparser\u001b[39m\u001b[39m (\u001b[39m\u001b[39;1m2.20\u001b[39;22m\u001b[39m)\u001b[39m: \u001b[34mInstalling...\u001b[39m\n",
            "\u001b[4A\u001b[0J  \u001b[32;1m•\u001b[39;22m \u001b[39mInstalling \u001b[39m\u001b[36mmatplotlib-inline\u001b[39m\u001b[39m (\u001b[39m\u001b[32m0.1.3\u001b[39m\u001b[39m)\u001b[39m\n",
            "  \u001b[34;1m•\u001b[39;22m \u001b[39mInstalling \u001b[39m\u001b[36mpexpect\u001b[39m\u001b[39m (\u001b[39m\u001b[39;1m4.8.0\u001b[39;22m\u001b[39m)\u001b[39m: \u001b[34mInstalling...\u001b[39m\n",
            "  \u001b[32;1m•\u001b[39;22m \u001b[39mInstalling \u001b[39m\u001b[36mpickleshare\u001b[39m\u001b[39m (\u001b[39m\u001b[32m0.7.5\u001b[39m\u001b[39m)\u001b[39m\n",
            "  \u001b[34;1m•\u001b[39;22m \u001b[39mInstalling \u001b[39m\u001b[36mprompt-toolkit\u001b[39m\u001b[39m (\u001b[39m\u001b[39;1m3.0.20\u001b[39;22m\u001b[39m)\u001b[39m: \u001b[34mInstalling...\u001b[39m\n",
            "  \u001b[34;1m•\u001b[39;22m \u001b[39mInstalling \u001b[39m\u001b[36mpycparser\u001b[39m\u001b[39m (\u001b[39m\u001b[39;1m2.20\u001b[39;22m\u001b[39m)\u001b[39m: \u001b[34mInstalling...\u001b[39m\n",
            "  \u001b[34;1m•\u001b[39;22m \u001b[39mInstalling \u001b[39m\u001b[36mpygments\u001b[39m\u001b[39m (\u001b[39m\u001b[39;1m2.10.0\u001b[39;22m\u001b[39m)\u001b[39m: \u001b[34mPending...\u001b[39m\n",
            "\u001b[1A\u001b[0J  \u001b[34;1m•\u001b[39;22m \u001b[39mInstalling \u001b[39m\u001b[36mpygments\u001b[39m\u001b[39m (\u001b[39m\u001b[39;1m2.10.0\u001b[39;22m\u001b[39m)\u001b[39m: \u001b[34mDownloading...\u001b[39m \u001b[39;1m0%\u001b[39;22m\n",
            "\u001b[1A\u001b[0J  \u001b[34;1m•\u001b[39;22m \u001b[39mInstalling \u001b[39m\u001b[36mpygments\u001b[39m\u001b[39m (\u001b[39m\u001b[39;1m2.10.0\u001b[39;22m\u001b[39m)\u001b[39m: \u001b[34mDownloading...\u001b[39m \u001b[39;1m100%\u001b[39;22m\n",
            "\u001b[1A\u001b[0J  \u001b[34;1m•\u001b[39;22m \u001b[39mInstalling \u001b[39m\u001b[36mpygments\u001b[39m\u001b[39m (\u001b[39m\u001b[39;1m2.10.0\u001b[39;22m\u001b[39m)\u001b[39m: \u001b[34mInstalling...\u001b[39m\n",
            "\u001b[5A\u001b[0J  \u001b[32;1m•\u001b[39;22m \u001b[39mInstalling \u001b[39m\u001b[36mpickleshare\u001b[39m\u001b[39m (\u001b[39m\u001b[32m0.7.5\u001b[39m\u001b[39m)\u001b[39m\n",
            "  \u001b[34;1m•\u001b[39;22m \u001b[39mInstalling \u001b[39m\u001b[36mprompt-toolkit\u001b[39m\u001b[39m (\u001b[39m\u001b[39;1m3.0.20\u001b[39;22m\u001b[39m)\u001b[39m: \u001b[34mInstalling...\u001b[39m\n",
            "  \u001b[34;1m•\u001b[39;22m \u001b[39mInstalling \u001b[39m\u001b[36mpycparser\u001b[39m\u001b[39m (\u001b[39m\u001b[39;1m2.20\u001b[39;22m\u001b[39m)\u001b[39m: \u001b[34mInstalling...\u001b[39m\n",
            "  \u001b[34;1m•\u001b[39;22m \u001b[39mInstalling \u001b[39m\u001b[36mpygments\u001b[39m\u001b[39m (\u001b[39m\u001b[39;1m2.10.0\u001b[39;22m\u001b[39m)\u001b[39m: \u001b[34mInstalling...\u001b[39m\n",
            "\u001b[4A\u001b[0J  \u001b[32;1m•\u001b[39;22m \u001b[39mInstalling \u001b[39m\u001b[36mpexpect\u001b[39m\u001b[39m (\u001b[39m\u001b[32m4.8.0\u001b[39m\u001b[39m)\u001b[39m\n",
            "  \u001b[32;1m•\u001b[39;22m \u001b[39mInstalling \u001b[39m\u001b[36mpickleshare\u001b[39m\u001b[39m (\u001b[39m\u001b[32m0.7.5\u001b[39m\u001b[39m)\u001b[39m\n",
            "  \u001b[34;1m•\u001b[39;22m \u001b[39mInstalling \u001b[39m\u001b[36mprompt-toolkit\u001b[39m\u001b[39m (\u001b[39m\u001b[39;1m3.0.20\u001b[39;22m\u001b[39m)\u001b[39m: \u001b[34mInstalling...\u001b[39m\n",
            "  \u001b[34;1m•\u001b[39;22m \u001b[39mInstalling \u001b[39m\u001b[36mpycparser\u001b[39m\u001b[39m (\u001b[39m\u001b[39;1m2.20\u001b[39;22m\u001b[39m)\u001b[39m: \u001b[34mInstalling...\u001b[39m\n",
            "  \u001b[34;1m•\u001b[39;22m \u001b[39mInstalling \u001b[39m\u001b[36mpygments\u001b[39m\u001b[39m (\u001b[39m\u001b[39;1m2.10.0\u001b[39;22m\u001b[39m)\u001b[39m: \u001b[34mInstalling...\u001b[39m\n",
            "  \u001b[34;1m•\u001b[39;22m \u001b[39mInstalling \u001b[39m\u001b[36mpyyaml\u001b[39m\u001b[39m (\u001b[39m\u001b[39;1m6.0\u001b[39;22m\u001b[39m)\u001b[39m: \u001b[34mPending...\u001b[39m\n",
            "\u001b[1A\u001b[0J  \u001b[34;1m•\u001b[39;22m \u001b[39mInstalling \u001b[39m\u001b[36mpyyaml\u001b[39m\u001b[39m (\u001b[39m\u001b[39;1m6.0\u001b[39;22m\u001b[39m)\u001b[39m: \u001b[34mDownloading...\u001b[39m \u001b[39;1m0%\u001b[39;22m\n",
            "\u001b[1A\u001b[0J  \u001b[34;1m•\u001b[39;22m \u001b[39mInstalling \u001b[39m\u001b[36mpyyaml\u001b[39m\u001b[39m (\u001b[39m\u001b[39;1m6.0\u001b[39;22m\u001b[39m)\u001b[39m: \u001b[34mDownloading...\u001b[39m \u001b[39;1m100%\u001b[39;22m\n",
            "\u001b[1A\u001b[0J  \u001b[34;1m•\u001b[39;22m \u001b[39mInstalling \u001b[39m\u001b[36mpyyaml\u001b[39m\u001b[39m (\u001b[39m\u001b[39;1m6.0\u001b[39;22m\u001b[39m)\u001b[39m: \u001b[34mInstalling...\u001b[39m\n"
          ]
        }
      ]
    },
    {
      "cell_type": "code",
      "source": [
        "!poetry shell"
      ],
      "metadata": {
        "colab": {
          "base_uri": "https://localhost:8080/"
        },
        "id": "FI2oosRnQNZw",
        "outputId": "7a1edb3e-f460-49d1-cbfa-18d659d1a5d6"
      },
      "execution_count": 18,
      "outputs": [
        {
          "output_type": "stream",
          "name": "stdout",
          "text": [
            "/bin/bash: poetry: command not found\n"
          ]
        }
      ]
    },
    {
      "cell_type": "code",
      "source": [
        "!python main.py trainer.epochs=100 data.dataset=tree log=true wandb.project=pub_diff wandb.name=tree"
      ],
      "metadata": {
        "colab": {
          "base_uri": "https://localhost:8080/"
        },
        "id": "j9rigEZFPYK6",
        "outputId": "f78fa7d5-3196-42e3-f6ec-cb38c0bf0bee"
      },
      "execution_count": 13,
      "outputs": [
        {
          "output_type": "stream",
          "name": "stdout",
          "text": [
            "Traceback (most recent call last):\n",
            "  File \"main.py\", line 1, in <module>\n",
            "    import hydra\n",
            "ModuleNotFoundError: No module named 'hydra'\n"
          ]
        }
      ]
    }
  ]
}