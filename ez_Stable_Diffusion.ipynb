{
  "nbformat": 4,
  "nbformat_minor": 0,
  "metadata": {
    "colab": {
      "provenance": [],
      "authorship_tag": "ABX9TyPH22/OlhsQQ3xy5HLB8Z5L",
      "include_colab_link": true
    },
    "kernelspec": {
      "name": "python3",
      "display_name": "Python 3"
    },
    "language_info": {
      "name": "python"
    }
  },
  "cells": [
    {
      "cell_type": "markdown",
      "metadata": {
        "id": "view-in-github",
        "colab_type": "text"
      },
      "source": [
        "<a href=\"https://colab.research.google.com/github/CaryJoeAlmanza/group4aiproject/blob/Stable-Diffusion/ez_Stable_Diffusion.ipynb\" target=\"_parent\"><img src=\"https://colab.research.google.com/assets/colab-badge.svg\" alt=\"Open In Colab\"/></a>"
      ]
    },
    {
      "cell_type": "code",
      "execution_count": null,
      "metadata": {
        "id": "488isJcSKnKH"
      },
      "outputs": [],
      "source": [
        "!pip install diffusers==0.4.0\n",
        "!pip install transformers scipy ftfy\n",
        "!pip install \"ipywidgets>=7,<8\"\n",
        "from google.colab import output\n",
        "output.enable_custom_widget_manager()\n",
        "from huggingface_hub import notebook_login\n",
        "notebook_login()\n",
        "import torch\n",
        "from diffusers import StableDiffusionPipeline"
      ]
    },
    {
      "cell_type": "code",
      "source": [
        "pipe = StableDiffusionPipeline.from_pretrained(\"CompVis/stable-diffusion-v1-4\", revision=\"fp16\", torch_dtype=torch.float16)  \n",
        "pipe = pipe.to(\"cuda\")\n",
        "\n"
      ],
      "metadata": {
        "id": "ba5SRGaqKpmw"
      },
      "execution_count": null,
      "outputs": []
    },
    {
      "cell_type": "code",
      "source": [
        "prompt = \"a photograph of an astronaut riding a horse\"\n",
        "image = pipe(prompt).images[0]\n",
        "image\n"
      ],
      "metadata": {
        "id": "G9UK-fbaKram"
      },
      "execution_count": null,
      "outputs": []
    }
  ]
}